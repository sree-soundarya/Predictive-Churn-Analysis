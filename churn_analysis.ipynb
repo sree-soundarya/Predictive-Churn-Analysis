{
 "cells": [
  {
   "cell_type": "code",
   "execution_count": null,
   "metadata": {},
   "outputs": [],
   "source": [
    "import json\n",
    "import pandas as pd\n",
    "\n",
    "# Import Libraries\n",
    "from snowflake.snowpark.session import Session\n",
    "from snowflake.snowpark.version import VERSION\n"
   ]
  },
  {
   "cell_type": "code",
   "execution_count": null,
   "metadata": {},
   "outputs": [],
   "source": [
    "# Create Snowflake Session object\n",
    "connection_parameters = json.load(open('connection_MA.json'))\n",
    "conn = Session.builder.configs(connection_parameters).create()\n",
    "conn.sql_simplifier_enabled = True\n",
    "snowflake_environment = conn.sql('select current_user(), current_role(), current_database(), current_schema(), current_version(), current_warehouse()').collect()\n",
    "snowpark_version = VERSION\n",
    "# Current Environment Details\n",
    "print('User                        : {}'.format(snowflake_environment[0][0]))\n",
    "print('Role                        : {}'.format(snowflake_environment[0][1]))\n",
    "print('Database                    : {}'.format(snowflake_environment[0][2]))\n",
    "print('Schema                      : {}'.format(snowflake_environment[0][3]))\n",
    "print('Warehouse                   : {}'.format(snowflake_environment[0][5]))\n",
    "print('Snowflake version           : {}'.format(snowflake_environment[0][4]))\n",
    "print('Snowpark for Python version : {}.{}.{}'.format(snowpark_version[0],snowpark_version[1],snowpark_version[2]))"
   ]
  },
  {
   "cell_type": "code",
   "execution_count": null,
   "metadata": {},
   "outputs": [],
   "source": [
    "df_table = conn.table(\"GDC_DEMO.PUBLIC.TEST_RESULTS\")"
   ]
  },
  {
   "cell_type": "code",
   "execution_count": null,
   "metadata": {},
   "outputs": [],
   "source": [
    "df_table.show()"
   ]
  },
  {
   "cell_type": "code",
   "execution_count": null,
   "metadata": {},
   "outputs": [],
   "source": [
    "# Copying Table to GDC_DEMO DB\n",
    "copy_table_query  = f\"\"\"\n",
    "       CREATE TABLE IF NOT EXISTS GDC_DEMO.PUBLIC.dim_media_customers AS\n",
    "SELECT * FROM SPOTFLIX.PUBLIC.\"dim_media_customers\";\n",
    "    \"\"\"\n",
    "conn.sql(copy_table_query).collect()"
   ]
  },
  {
   "cell_type": "code",
   "execution_count": null,
   "metadata": {},
   "outputs": [],
   "source": [
    "gdc_dim_media_customers = conn.table(\"GDC_DEMO.PUBLIC.dim_media_customers\")\n",
    "gdc_dim_media_customers.show()"
   ]
  },
  {
   "cell_type": "code",
   "execution_count": null,
   "metadata": {},
   "outputs": [],
   "source": [
    "gdc_dim_media_customers.describe().show()\n"
   ]
  },
  {
   "cell_type": "code",
   "execution_count": null,
   "metadata": {},
   "outputs": [],
   "source": [
    "gdc_dim_media_customers"
   ]
  },
  {
   "cell_type": "code",
   "execution_count": null,
   "metadata": {},
   "outputs": [],
   "source": [
    "# Adding Churn Column \n",
    "\n",
    "churn_column_query  = f\"\"\"\n",
    "    ALTER TABLE GDC_DEMO.PUBLIC.DIM_MEDIA_CUSTOMERS\n",
    "ADD churn INT DEFAULT 0; -- Default value is 0\n",
    "    \"\"\"\n",
    "conn.sql(churn_column_query).collect()\n",
    "\n",
    "churn1_column_query  = f\"\"\"\n",
    "    UPDATE GDC_DEMO.PUBLIC.DIM_MEDIA_CUSTOMERS\n",
    "SET churn = CASE WHEN \"closedate\" IS NOT NULL THEN 1 ELSE 0 END;\n",
    "    \"\"\"\n",
    "conn.sql(churn1_column_query).collect()\n"
   ]
  },
  {
   "cell_type": "code",
   "execution_count": null,
   "metadata": {},
   "outputs": [],
   "source": [
    "# Adding Viewing_frequency Column \n",
    "\n",
    "viewing_frequency_column_query  = f\"\"\"\n",
    "    ALTER TABLE GDC_DEMO.PUBLIC.DIM_MEDIA_CUSTOMERS\n",
    "ADD viewing_frequency INT ;\n",
    "    \"\"\"\n",
    "conn.sql(viewing_frequency_column_query).collect()\n",
    "\n",
    "viewing_frequency1_column_query  = f\"\"\"\n",
    "    UPDATE GDC_DEMO.PUBLIC.DIM_MEDIA_CUSTOMERS AS c\n",
    "SET viewing_frequency = (\n",
    "    SELECT COUNT(*)\n",
    "    FROM SPOTFLIX.PUBLIC.\"fact_media_show_events\" AS e\n",
    "    WHERE e.\"customer_id\" = c.\"customer_id\"\n",
    ");\n",
    "    \"\"\"\n",
    "conn.sql(viewing_frequency1_column_query).collect()"
   ]
  },
  {
   "cell_type": "code",
   "execution_count": null,
   "metadata": {},
   "outputs": [],
   "source": [
    "# Adding Viewing_duration Column \n",
    "\n",
    "viewing_duration_column_query  = f\"\"\"\n",
    "    ALTER TABLE GDC_DEMO.PUBLIC.DIM_MEDIA_CUSTOMERS\n",
    "ADD viewing_duration INT ;\n",
    "    \"\"\"\n",
    "conn.sql(viewing_duration_column_query).collect()\n",
    "\n",
    "viewing_duration1_column_query  = f\"\"\"\n",
    "    UPDATE GDC_DEMO.PUBLIC.DIM_MEDIA_CUSTOMERS AS c\n",
    "SET viewing_duration = (\n",
    "    SELECT SUM(e.\"viewruntime\")\n",
    "    FROM SPOTFLIX.PUBLIC.\"fact_media_show_events\" AS e\n",
    "    WHERE e.\"customer_id\" = c.\"customer_id\"\n",
    ");\n",
    "    \"\"\"\n",
    "conn.sql(viewing_duration1_column_query).collect()"
   ]
  }
 ],
 "metadata": {
  "kernelspec": {
   "display_name": "Python 3",
   "language": "python",
   "name": "python3"
  },
  "language_info": {
   "name": "python",
   "version": "3.8.8"
  },
  "orig_nbformat": 4
 },
 "nbformat": 4,
 "nbformat_minor": 2
}
