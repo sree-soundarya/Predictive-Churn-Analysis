{
 "cells": [
  {
   "cell_type": "code",
   "execution_count": 2,
   "metadata": {},
   "outputs": [],
   "source": [
    "import json\n",
    "import pandas as pd\n",
    "\n",
    "# Import Libraries\n",
    "from snowflake.snowpark.session import Session\n",
    "from snowflake.snowpark.version import VERSION\n",
    "import snowflake.snowpark.functions as F\n"
   ]
  },
  {
   "cell_type": "code",
   "execution_count": 3,
   "metadata": {},
   "outputs": [
    {
     "name": "stdout",
     "output_type": "stream",
     "text": [
      "User                        : MOHAMMED\n",
      "Role                        : SE_ROLE\n",
      "Database                    : None\n",
      "Schema                      : None\n",
      "Warehouse                   : SE_DEMO_WH\n",
      "Snowflake version           : 7.35.1\n",
      "Snowpark for Python version : 1.8.0\n"
     ]
    }
   ],
   "source": [
    "# Create Snowflake Session object\n",
    "connection_parameters = json.load(open('connection.json'))\n",
    "conn = Session.builder.configs(connection_parameters).create()\n",
    "conn.sql_simplifier_enabled = True\n",
    "snowflake_environment = conn.sql('select current_user(), current_role(), current_database(), current_schema(), current_version(), current_warehouse()').collect()\n",
    "snowpark_version = VERSION\n",
    "# Current Environment Details\n",
    "print('User                        : {}'.format(snowflake_environment[0][0]))\n",
    "print('Role                        : {}'.format(snowflake_environment[0][1]))\n",
    "print('Database                    : {}'.format(snowflake_environment[0][2]))\n",
    "print('Schema                      : {}'.format(snowflake_environment[0][3]))\n",
    "print('Warehouse                   : {}'.format(snowflake_environment[0][5]))\n",
    "print('Snowflake version           : {}'.format(snowflake_environment[0][4]))\n",
    "print('Snowpark for Python version : {}.{}.{}'.format(snowpark_version[0],snowpark_version[1],snowpark_version[2]))"
   ]
  },
  {
   "cell_type": "code",
   "execution_count": 7,
   "metadata": {},
   "outputs": [
    {
     "data": {
      "text/plain": [
       "[Row(status='Schema CHURN_PREDICTION successfully created.')]"
      ]
     },
     "execution_count": 7,
     "metadata": {},
     "output_type": "execute_result"
    }
   ],
   "source": [
    "#Creating a schema for Churn prediction in GDC_DEMO database\n",
    "# One time run \n",
    "\n",
    "conn.sql(f'''create schema GDC_DEMO.CHURN_PREDICTION;''').collect()\n",
    "# conn.sql(f\"\"\"show schemas;\"\"\").collect()"
   ]
  },
  {
   "cell_type": "code",
   "execution_count": 9,
   "metadata": {},
   "outputs": [
    {
     "data": {
      "text/plain": [
       "[Row(status='Table DIM_MEDIA_CUSTOMERS successfully created.')]"
      ]
     },
     "execution_count": 9,
     "metadata": {},
     "output_type": "execute_result"
    }
   ],
   "source": [
    "# Clone required tables from spotflix db\n",
    "conn.sql(f'''CREATE TABLE GDC_DEMO.CHURN_PREDICTION.dim_media_customers CLONE SPOTFLIX.PUBLIC.\"dim_media_customers\";''').collect()"
   ]
  },
  {
   "cell_type": "code",
   "execution_count": 4,
   "metadata": {},
   "outputs": [
    {
     "name": "stdout",
     "output_type": "stream",
     "text": [
      "-----------------------------------------------------------------------------------------------------------------------\n",
      "|\"record_id\"  |\"customer_id\"  |\"show_id\"  |\"episode_id\"  |\"viewdate\"  |\"viewtime\"  |\"viewruntime\"  |\"viewruntimepct\"  |\n",
      "-----------------------------------------------------------------------------------------------------------------------\n",
      "|1462273      |11989          |74         |459           |2019-03-23  |17:12:35    |0              |-1                |\n",
      "|1462274      |11989          |3          |7             |2018-08-24  |00:00:00    |88             |98                |\n",
      "|1462275      |11989          |3          |8             |2018-08-26  |22:40:05    |60             |100               |\n",
      "|1462276      |11989          |3          |9             |2018-08-28  |17:34:54    |59             |99                |\n",
      "|1462277      |11989          |3          |10            |2018-08-30  |08:54:16    |58             |98                |\n",
      "|1462278      |11989          |3          |11            |2018-09-01  |20:33:10    |59             |99                |\n",
      "|1462279      |11989          |3          |12            |2018-09-08  |17:39:03    |58             |97                |\n",
      "|1462280      |11989          |3          |13            |2018-09-13  |00:12:54    |59             |99                |\n",
      "|1462281      |11989          |3          |14            |2018-09-15  |06:00:39    |59             |99                |\n",
      "|1462282      |11989          |3          |15            |2018-09-21  |06:31:51    |58             |98                |\n",
      "-----------------------------------------------------------------------------------------------------------------------\n",
      "\n"
     ]
    }
   ],
   "source": [
    "fact_media_show_events_df = conn.table('SPOTFLIX.PUBLIC.\"fact_media_show_events\"')\n",
    "fact_media_show_events_df.show()"
   ]
  },
  {
   "cell_type": "code",
   "execution_count": 5,
   "metadata": {},
   "outputs": [
    {
     "data": {
      "text/plain": [
       "[StructField('\"customer_id\"', LongType(), nullable=True),\n",
       " StructField('\"customer_name\"', StringType(16777216), nullable=True),\n",
       " StructField('\"gender\"', StringType(16777216), nullable=True),\n",
       " StructField('\"age\"', LongType(), nullable=True),\n",
       " StructField('\"age_group\"', StringType(16777216), nullable=True),\n",
       " StructField('\"street_address\"', StringType(16777216), nullable=True),\n",
       " StructField('\"city\"', StringType(16777216), nullable=True),\n",
       " StructField('\"state\"', StringType(16777216), nullable=True),\n",
       " StructField('\"zipcode\"', StringType(16777216), nullable=True),\n",
       " StructField('\"county\"', StringType(16777216), nullable=True),\n",
       " StructField('\"latitude\"', DoubleType(), nullable=True),\n",
       " StructField('\"longitude\"', DoubleType(), nullable=True),\n",
       " StructField('\"region\"', StringType(16777216), nullable=True),\n",
       " StructField('\"opendate\"', DateType(), nullable=True),\n",
       " StructField('\"closedate\"', DateType(), nullable=True)]"
      ]
     },
     "execution_count": 5,
     "metadata": {},
     "output_type": "execute_result"
    }
   ],
   "source": [
    "dim_media_cust_df = conn.table('GDC_DEMO.CHURN_PREDICTION.dim_media_customers')\n",
    "dim_media_cust_df.schema.fields"
   ]
  },
  {
   "cell_type": "code",
   "execution_count": 6,
   "metadata": {},
   "outputs": [
    {
     "name": "stdout",
     "output_type": "stream",
     "text": [
      "------------------------------------------------------------------------------------------------------------------------------------------------------------------------------------------------------------------------------\n",
      "|\"customer_id\"  |\"customer_name\"   |\"gender\"  |\"age\"  |\"age_group\"  |\"street_address\"        |\"city\"           |\"state\"  |\"zipcode\"  |\"county\"            |\"latitude\"  |\"longitude\"   |\"region\"   |\"opendate\"  |\"closedate\"  |\n",
      "------------------------------------------------------------------------------------------------------------------------------------------------------------------------------------------------------------------------------\n",
      "|1              |Alma Bassani      |Female    |18     |18-24        |329 4th Street          |Manhattan Beach  |CA       |90266      |Los Angeles County  |33.8804079  |-118.4063552  |West       |2018-03-09  |NULL         |\n",
      "|2              |Sherry Blanck     |Female    |25     |25-34        |1170 NEWBURY LN E       |Mobile           |AL       |36695      |Mobile County       |30.6660304  |-88.21778     |South      |2017-10-18  |NULL         |\n",
      "|3              |Frank Leehy       |Male      |81     |65+          |3070 S Hadley Rd        |Ortonville       |MI       |48462      |Oakland County      |42.806329   |-83.4151795   |Midwest    |2018-03-03  |2019-04-23   |\n",
      "|4              |Warren Nease      |Male      |73     |65+          |1119 14TH St North      |Birmingham       |AL       |35204      |Jefferson County    |33.5229239  |-86.8219365   |South      |2018-03-25  |2018-07-30   |\n",
      "|5              |Miguel Cavill     |Male      |37     |35-44        |7526 MUSTANG CORRAL DR  |Humble           |TX       |77338      |Harris County       |30.0123186  |-95.3103014   |Southwest  |2017-07-17  |2019-04-24   |\n",
      "|6              |Jimmie Roberge    |Male      |28     |25-34        |5055 N BEACH RD         |Englewood        |FL       |34223      |Sarasota County     |26.9445612  |-82.3705677   |South      |2018-05-19  |NULL         |\n",
      "|7              |Herman Eull       |Male      |25     |25-34        |239 B ELDER ST          |Greenville       |SC       |29607      |Greenville County   |34.8406215  |-82.3739721   |South      |2018-04-18  |NULL         |\n",
      "|8              |Jane Bahn         |Female    |39     |35-44        |514 ANTRIM RD           |Xenia            |OH       |45385      |Greene County       |39.6912711  |-83.9429705   |Midwest    |2017-11-08  |NULL         |\n",
      "|9              |Russell Poepping  |Male      |24     |18-24        |1786 200TH AVE          |New Richmond     |WI       |54017      |St Croix County     |45.1823546  |-92.4488986   |Midwest    |2018-04-08  |NULL         |\n",
      "|10             |Roland Troidl     |Male      |38     |35-44        |1503 MARSHALL LN        |Austin           |TX       |78703      |Travis County       |30.282095   |-97.7556233   |Southwest  |2017-10-10  |NULL         |\n",
      "------------------------------------------------------------------------------------------------------------------------------------------------------------------------------------------------------------------------------\n",
      "\n"
     ]
    }
   ],
   "source": [
    "dim_media_cust_df.show()"
   ]
  },
  {
   "cell_type": "code",
   "execution_count": 7,
   "metadata": {},
   "outputs": [
    {
     "data": {
      "text/html": [
       "<div>\n",
       "<style scoped>\n",
       "    .dataframe tbody tr th:only-of-type {\n",
       "        vertical-align: middle;\n",
       "    }\n",
       "\n",
       "    .dataframe tbody tr th {\n",
       "        vertical-align: top;\n",
       "    }\n",
       "\n",
       "    .dataframe thead th {\n",
       "        text-align: right;\n",
       "    }\n",
       "</style>\n",
       "<table border=\"1\" class=\"dataframe\">\n",
       "  <thead>\n",
       "    <tr style=\"text-align: right;\">\n",
       "      <th></th>\n",
       "      <th>customer_id</th>\n",
       "      <th>customer_name</th>\n",
       "      <th>gender</th>\n",
       "      <th>age</th>\n",
       "      <th>age_group</th>\n",
       "      <th>street_address</th>\n",
       "      <th>city</th>\n",
       "      <th>state</th>\n",
       "      <th>zipcode</th>\n",
       "      <th>county</th>\n",
       "      <th>latitude</th>\n",
       "      <th>longitude</th>\n",
       "      <th>region</th>\n",
       "      <th>opendate</th>\n",
       "      <th>closedate</th>\n",
       "    </tr>\n",
       "  </thead>\n",
       "  <tbody>\n",
       "    <tr>\n",
       "      <th>0</th>\n",
       "      <td>1</td>\n",
       "      <td>Alma Bassani</td>\n",
       "      <td>Female</td>\n",
       "      <td>18</td>\n",
       "      <td>18-24</td>\n",
       "      <td>329 4th Street</td>\n",
       "      <td>Manhattan Beach</td>\n",
       "      <td>CA</td>\n",
       "      <td>90266</td>\n",
       "      <td>Los Angeles County</td>\n",
       "      <td>33.880408</td>\n",
       "      <td>-118.406355</td>\n",
       "      <td>West</td>\n",
       "      <td>2018-03-09</td>\n",
       "      <td>None</td>\n",
       "    </tr>\n",
       "    <tr>\n",
       "      <th>1</th>\n",
       "      <td>2</td>\n",
       "      <td>Sherry Blanck</td>\n",
       "      <td>Female</td>\n",
       "      <td>25</td>\n",
       "      <td>25-34</td>\n",
       "      <td>1170 NEWBURY LN E</td>\n",
       "      <td>Mobile</td>\n",
       "      <td>AL</td>\n",
       "      <td>36695</td>\n",
       "      <td>Mobile County</td>\n",
       "      <td>30.666030</td>\n",
       "      <td>-88.217780</td>\n",
       "      <td>South</td>\n",
       "      <td>2017-10-18</td>\n",
       "      <td>None</td>\n",
       "    </tr>\n",
       "    <tr>\n",
       "      <th>2</th>\n",
       "      <td>3</td>\n",
       "      <td>Frank Leehy</td>\n",
       "      <td>Male</td>\n",
       "      <td>81</td>\n",
       "      <td>65+</td>\n",
       "      <td>3070 S Hadley Rd</td>\n",
       "      <td>Ortonville</td>\n",
       "      <td>MI</td>\n",
       "      <td>48462</td>\n",
       "      <td>Oakland County</td>\n",
       "      <td>42.806329</td>\n",
       "      <td>-83.415179</td>\n",
       "      <td>Midwest</td>\n",
       "      <td>2018-03-03</td>\n",
       "      <td>2019-04-23</td>\n",
       "    </tr>\n",
       "    <tr>\n",
       "      <th>3</th>\n",
       "      <td>4</td>\n",
       "      <td>Warren Nease</td>\n",
       "      <td>Male</td>\n",
       "      <td>73</td>\n",
       "      <td>65+</td>\n",
       "      <td>1119 14TH St North</td>\n",
       "      <td>Birmingham</td>\n",
       "      <td>AL</td>\n",
       "      <td>35204</td>\n",
       "      <td>Jefferson County</td>\n",
       "      <td>33.522924</td>\n",
       "      <td>-86.821937</td>\n",
       "      <td>South</td>\n",
       "      <td>2018-03-25</td>\n",
       "      <td>2018-07-30</td>\n",
       "    </tr>\n",
       "    <tr>\n",
       "      <th>4</th>\n",
       "      <td>5</td>\n",
       "      <td>Miguel Cavill</td>\n",
       "      <td>Male</td>\n",
       "      <td>37</td>\n",
       "      <td>35-44</td>\n",
       "      <td>7526 MUSTANG CORRAL DR</td>\n",
       "      <td>Humble</td>\n",
       "      <td>TX</td>\n",
       "      <td>77338</td>\n",
       "      <td>Harris County</td>\n",
       "      <td>30.012319</td>\n",
       "      <td>-95.310301</td>\n",
       "      <td>Southwest</td>\n",
       "      <td>2017-07-17</td>\n",
       "      <td>2019-04-24</td>\n",
       "    </tr>\n",
       "    <tr>\n",
       "      <th>...</th>\n",
       "      <td>...</td>\n",
       "      <td>...</td>\n",
       "      <td>...</td>\n",
       "      <td>...</td>\n",
       "      <td>...</td>\n",
       "      <td>...</td>\n",
       "      <td>...</td>\n",
       "      <td>...</td>\n",
       "      <td>...</td>\n",
       "      <td>...</td>\n",
       "      <td>...</td>\n",
       "      <td>...</td>\n",
       "      <td>...</td>\n",
       "      <td>...</td>\n",
       "      <td>...</td>\n",
       "    </tr>\n",
       "    <tr>\n",
       "      <th>49995</th>\n",
       "      <td>49996</td>\n",
       "      <td>Linda Casstevens</td>\n",
       "      <td>Female</td>\n",
       "      <td>28</td>\n",
       "      <td>25-34</td>\n",
       "      <td>18623 ROLLING SHORES CT</td>\n",
       "      <td>Humble</td>\n",
       "      <td>TX</td>\n",
       "      <td>77346</td>\n",
       "      <td>Harris County</td>\n",
       "      <td>29.988060</td>\n",
       "      <td>-95.143241</td>\n",
       "      <td>Southwest</td>\n",
       "      <td>2019-07-26</td>\n",
       "      <td>None</td>\n",
       "    </tr>\n",
       "    <tr>\n",
       "      <th>49996</th>\n",
       "      <td>49997</td>\n",
       "      <td>Morris Tonnesen</td>\n",
       "      <td>Male</td>\n",
       "      <td>18</td>\n",
       "      <td>18-24</td>\n",
       "      <td>3009 FORT STANWIX RD</td>\n",
       "      <td>Henderson</td>\n",
       "      <td>NV</td>\n",
       "      <td>89052</td>\n",
       "      <td>Clark County</td>\n",
       "      <td>35.958662</td>\n",
       "      <td>-115.119954</td>\n",
       "      <td>West</td>\n",
       "      <td>2019-07-26</td>\n",
       "      <td>None</td>\n",
       "    </tr>\n",
       "    <tr>\n",
       "      <th>49997</th>\n",
       "      <td>49998</td>\n",
       "      <td>Ana Servan</td>\n",
       "      <td>Female</td>\n",
       "      <td>19</td>\n",
       "      <td>18-24</td>\n",
       "      <td>23003 VIDA</td>\n",
       "      <td>Galveston</td>\n",
       "      <td>TX</td>\n",
       "      <td>77554</td>\n",
       "      <td>Galveston County</td>\n",
       "      <td>29.134890</td>\n",
       "      <td>-95.061040</td>\n",
       "      <td>Southwest</td>\n",
       "      <td>2019-07-26</td>\n",
       "      <td>None</td>\n",
       "    </tr>\n",
       "    <tr>\n",
       "      <th>49998</th>\n",
       "      <td>49999</td>\n",
       "      <td>Charles Dayao</td>\n",
       "      <td>Male</td>\n",
       "      <td>41</td>\n",
       "      <td>35-44</td>\n",
       "      <td>37459 CHARTER OAKS BLVD</td>\n",
       "      <td>Clinton Township</td>\n",
       "      <td>MI</td>\n",
       "      <td>48036</td>\n",
       "      <td>Macomb County</td>\n",
       "      <td>42.574024</td>\n",
       "      <td>-82.916782</td>\n",
       "      <td>Midwest</td>\n",
       "      <td>2019-07-26</td>\n",
       "      <td>None</td>\n",
       "    </tr>\n",
       "    <tr>\n",
       "      <th>49999</th>\n",
       "      <td>50000</td>\n",
       "      <td>Calvin Jacquier</td>\n",
       "      <td>Male</td>\n",
       "      <td>22</td>\n",
       "      <td>18-24</td>\n",
       "      <td>5401 E VAN BUREN ST</td>\n",
       "      <td>Phoenix</td>\n",
       "      <td>AZ</td>\n",
       "      <td>85008</td>\n",
       "      <td>Maricopa County</td>\n",
       "      <td>33.450020</td>\n",
       "      <td>-111.963845</td>\n",
       "      <td>Southwest</td>\n",
       "      <td>2019-07-26</td>\n",
       "      <td>None</td>\n",
       "    </tr>\n",
       "  </tbody>\n",
       "</table>\n",
       "<p>50000 rows × 15 columns</p>\n",
       "</div>"
      ],
      "text/plain": [
       "       customer_id     customer_name  gender  age age_group  \\\n",
       "0                1      Alma Bassani  Female   18     18-24   \n",
       "1                2     Sherry Blanck  Female   25     25-34   \n",
       "2                3       Frank Leehy    Male   81       65+   \n",
       "3                4      Warren Nease    Male   73       65+   \n",
       "4                5     Miguel Cavill    Male   37     35-44   \n",
       "...            ...               ...     ...  ...       ...   \n",
       "49995        49996  Linda Casstevens  Female   28     25-34   \n",
       "49996        49997   Morris Tonnesen    Male   18     18-24   \n",
       "49997        49998        Ana Servan  Female   19     18-24   \n",
       "49998        49999     Charles Dayao    Male   41     35-44   \n",
       "49999        50000   Calvin Jacquier    Male   22     18-24   \n",
       "\n",
       "                street_address              city state zipcode  \\\n",
       "0               329 4th Street   Manhattan Beach    CA   90266   \n",
       "1            1170 NEWBURY LN E            Mobile    AL   36695   \n",
       "2             3070 S Hadley Rd        Ortonville    MI   48462   \n",
       "3           1119 14TH St North        Birmingham    AL   35204   \n",
       "4       7526 MUSTANG CORRAL DR            Humble    TX   77338   \n",
       "...                        ...               ...   ...     ...   \n",
       "49995  18623 ROLLING SHORES CT            Humble    TX   77346   \n",
       "49996     3009 FORT STANWIX RD         Henderson    NV   89052   \n",
       "49997               23003 VIDA         Galveston    TX   77554   \n",
       "49998  37459 CHARTER OAKS BLVD  Clinton Township    MI   48036   \n",
       "49999      5401 E VAN BUREN ST           Phoenix    AZ   85008   \n",
       "\n",
       "                   county   latitude   longitude     region    opendate  \\\n",
       "0      Los Angeles County  33.880408 -118.406355       West  2018-03-09   \n",
       "1           Mobile County  30.666030  -88.217780      South  2017-10-18   \n",
       "2          Oakland County  42.806329  -83.415179    Midwest  2018-03-03   \n",
       "3        Jefferson County  33.522924  -86.821937      South  2018-03-25   \n",
       "4           Harris County  30.012319  -95.310301  Southwest  2017-07-17   \n",
       "...                   ...        ...         ...        ...         ...   \n",
       "49995       Harris County  29.988060  -95.143241  Southwest  2019-07-26   \n",
       "49996        Clark County  35.958662 -115.119954       West  2019-07-26   \n",
       "49997    Galveston County  29.134890  -95.061040  Southwest  2019-07-26   \n",
       "49998       Macomb County  42.574024  -82.916782    Midwest  2019-07-26   \n",
       "49999     Maricopa County  33.450020 -111.963845  Southwest  2019-07-26   \n",
       "\n",
       "        closedate  \n",
       "0            None  \n",
       "1            None  \n",
       "2      2019-04-23  \n",
       "3      2018-07-30  \n",
       "4      2019-04-24  \n",
       "...           ...  \n",
       "49995        None  \n",
       "49996        None  \n",
       "49997        None  \n",
       "49998        None  \n",
       "49999        None  \n",
       "\n",
       "[50000 rows x 15 columns]"
      ]
     },
     "execution_count": 7,
     "metadata": {},
     "output_type": "execute_result"
    }
   ],
   "source": [
    "dim_media_cust_df.to_pandas()"
   ]
  },
  {
   "cell_type": "code",
   "execution_count": null,
   "metadata": {},
   "outputs": [],
   "source": [
    "df.with_column(\"A\", F.iff((F.col(\"A\") == F.lit('NaN')) | (F.col(\"A\").is_null()),\n",
    "                           F.avg(F.iff(F.col(\"A\") == F.lit('NaN'), F.lit(None), F.col(\"A\") )).over(), F.col(\"A\"))).show()"
   ]
  },
  {
   "cell_type": "code",
   "execution_count": 23,
   "metadata": {},
   "outputs": [
    {
     "name": "stdout",
     "output_type": "stream",
     "text": [
      "----------------------------------------------------------------------------------------------------------------------------------------------------------------------------------------------------------------------------------------\n",
      "|\"customer_id\"  |\"customer_name\"   |\"gender\"  |\"age\"  |\"age_group\"  |\"street_address\"        |\"city\"           |\"state\"  |\"zipcode\"  |\"county\"            |\"latitude\"  |\"longitude\"   |\"region\"   |\"opendate\"  |\"closedate\"  |\"CHURN\"  |\n",
      "----------------------------------------------------------------------------------------------------------------------------------------------------------------------------------------------------------------------------------------\n",
      "|1              |Alma Bassani      |Female    |18     |18-24        |329 4th Street          |Manhattan Beach  |CA       |90266      |Los Angeles County  |33.8804079  |-118.4063552  |West       |2018-03-09  |NULL         |0        |\n",
      "|2              |Sherry Blanck     |Female    |25     |25-34        |1170 NEWBURY LN E       |Mobile           |AL       |36695      |Mobile County       |30.6660304  |-88.21778     |South      |2017-10-18  |NULL         |0        |\n",
      "|3              |Frank Leehy       |Male      |81     |65+          |3070 S Hadley Rd        |Ortonville       |MI       |48462      |Oakland County      |42.806329   |-83.4151795   |Midwest    |2018-03-03  |2019-04-23   |1        |\n",
      "|4              |Warren Nease      |Male      |73     |65+          |1119 14TH St North      |Birmingham       |AL       |35204      |Jefferson County    |33.5229239  |-86.8219365   |South      |2018-03-25  |2018-07-30   |1        |\n",
      "|5              |Miguel Cavill     |Male      |37     |35-44        |7526 MUSTANG CORRAL DR  |Humble           |TX       |77338      |Harris County       |30.0123186  |-95.3103014   |Southwest  |2017-07-17  |2019-04-24   |1        |\n",
      "|6              |Jimmie Roberge    |Male      |28     |25-34        |5055 N BEACH RD         |Englewood        |FL       |34223      |Sarasota County     |26.9445612  |-82.3705677   |South      |2018-05-19  |NULL         |0        |\n",
      "|7              |Herman Eull       |Male      |25     |25-34        |239 B ELDER ST          |Greenville       |SC       |29607      |Greenville County   |34.8406215  |-82.3739721   |South      |2018-04-18  |NULL         |0        |\n",
      "|8              |Jane Bahn         |Female    |39     |35-44        |514 ANTRIM RD           |Xenia            |OH       |45385      |Greene County       |39.6912711  |-83.9429705   |Midwest    |2017-11-08  |NULL         |0        |\n",
      "|9              |Russell Poepping  |Male      |24     |18-24        |1786 200TH AVE          |New Richmond     |WI       |54017      |St Croix County     |45.1823546  |-92.4488986   |Midwest    |2018-04-08  |NULL         |0        |\n",
      "|10             |Roland Troidl     |Male      |38     |35-44        |1503 MARSHALL LN        |Austin           |TX       |78703      |Travis County       |30.282095   |-97.7556233   |Southwest  |2017-10-10  |NULL         |0        |\n",
      "----------------------------------------------------------------------------------------------------------------------------------------------------------------------------------------------------------------------------------------\n",
      "\n"
     ]
    }
   ],
   "source": [
    "dim_media_cust_df1 = dim_media_cust_df.with_column('churn',\n",
    "                    F.when((F.col('\"closedate\"').is_null()) , 0 ).otherwise(1))\n",
    "dim_media_cust_df1.show()"
   ]
  },
  {
   "cell_type": "code",
   "execution_count": null,
   "metadata": {},
   "outputs": [],
   "source": [
    "dim_media_cust_df1 = dim_media_cust_df.with_column('churn',\n",
    "                    F.when((F.col('\"closedate\"').is_null()) , 0 ).otherwise(1))\n",
    "dim_media_cust_df1.show()"
   ]
  },
  {
   "cell_type": "code",
   "execution_count": null,
   "metadata": {},
   "outputs": [],
   "source": [
    "dim_media_cust_df.with_column('viewing_frequency', dim_media_cust_df.group_by('\"customer_id_1\"','\"viewdate\"')\n",
    "dim_media_cust_df.join(fact_media_show_events_df,'\"customer_id\"')\n",
    "                    F.when((F.col('\"closedate\"').is_null()) , 0 ).otherwise(1))"
   ]
  },
  {
   "cell_type": "code",
   "execution_count": 27,
   "metadata": {},
   "outputs": [
    {
     "name": "stdout",
     "output_type": "stream",
     "text": [
      "----------------------------------------\n",
      "|\"customer_id\"  |\"viewdate\"  |\"COUNT\"  |\n",
      "----------------------------------------\n",
      "|11989          |2018-08-08  |4        |\n",
      "|11989          |2018-08-19  |1        |\n",
      "|11989          |2019-04-08  |2        |\n",
      "|11989          |2018-10-11  |1        |\n",
      "|11989          |2018-11-08  |1        |\n",
      "|11990          |2018-06-22  |1        |\n",
      "|11989          |2018-08-05  |1        |\n",
      "|11989          |2018-09-03  |1        |\n",
      "|11989          |2018-09-24  |2        |\n",
      "|11989          |2019-02-24  |1        |\n",
      "----------------------------------------\n",
      "\n"
     ]
    }
   ],
   "source": [
    "dim_media_cust_df.join(fact_media_show_events_df,'\"customer_id\"').group_by('\"customer_id\"','\"viewdate\"').count().show()"
   ]
  },
  {
   "cell_type": "code",
   "execution_count": 3,
   "metadata": {},
   "outputs": [],
   "source": [
    "df_table = conn.table(\"GDC_DEMO.PUBLIC.TEST_RESULTS\")"
   ]
  },
  {
   "cell_type": "code",
   "execution_count": 4,
   "metadata": {},
   "outputs": [
    {
     "name": "stdout",
     "output_type": "stream",
     "text": [
      "--------------------------------------------------------------------------------------------------------------------------------------------------------------------------------------\n",
      "|\"Transaction_Date\"  |\"Sales_Quantity\"  |\"Sales_Dollar_Amount\"  |\"Tender_Type\"  |\"day_of_year\"  |\"day_of_month\"  |\"day_of_week\"  |\"month\"  |\"quarter\"  |\"year\"  |\"Forecasted(yhat)\"  |\n",
      "--------------------------------------------------------------------------------------------------------------------------------------------------------------------------------------\n",
      "|2017-10-01          |5814              |24008.46               |2              |274            |1               |6              |10       |4          |2017    |5825.2060546875     |\n",
      "|2017-10-02          |5387              |22378.37               |3              |275            |2               |0              |10       |4          |2017    |5400.099609375      |\n",
      "|2017-10-03          |5966              |25199.03               |4              |276            |3               |1              |10       |4          |2017    |5887.94091796875    |\n",
      "|2017-10-04          |5484              |22422.84               |0              |277            |4               |2              |10       |4          |2017    |5521.2734375        |\n",
      "|2017-10-05          |5094              |20251.97               |0              |278            |5               |3              |10       |4          |2017    |5148.6396484375     |\n",
      "|2017-10-06          |5957              |24469.79               |1              |279            |6               |4              |10       |4          |2017    |5895.4375           |\n",
      "|2017-10-07          |5694              |23521.98               |3              |280            |7               |5              |10       |4          |2017    |5698.37744140625    |\n",
      "|2017-10-08          |5917              |23760.79               |0              |281            |8               |6              |10       |4          |2017    |5862.20556640625    |\n",
      "|2017-10-09          |5761              |24537.12               |3              |282            |9               |0              |10       |4          |2017    |5766.74755859375    |\n",
      "|2017-10-10          |5919              |25042.43               |3              |283            |10              |1              |10       |4          |2017    |5901.41748046875    |\n",
      "--------------------------------------------------------------------------------------------------------------------------------------------------------------------------------------\n",
      "\n"
     ]
    }
   ],
   "source": [
    "df_table.show()"
   ]
  },
  {
   "cell_type": "code",
   "execution_count": 5,
   "metadata": {},
   "outputs": [
    {
     "data": {
      "text/plain": [
       "[StructField('\"Transaction_Date\"', DateType(), nullable=True),\n",
       " StructField('\"Sales_Quantity\"', LongType(), nullable=True),\n",
       " StructField('\"Sales_Dollar_Amount\"', DoubleType(), nullable=True),\n",
       " StructField('\"Tender_Type\"', LongType(), nullable=True),\n",
       " StructField('\"day_of_year\"', LongType(), nullable=True),\n",
       " StructField('\"day_of_month\"', LongType(), nullable=True),\n",
       " StructField('\"day_of_week\"', LongType(), nullable=True),\n",
       " StructField('\"month\"', LongType(), nullable=True),\n",
       " StructField('\"quarter\"', LongType(), nullable=True),\n",
       " StructField('\"year\"', LongType(), nullable=True),\n",
       " StructField('\"Forecasted(yhat)\"', DoubleType(), nullable=True)]"
      ]
     },
     "execution_count": 5,
     "metadata": {},
     "output_type": "execute_result"
    }
   ],
   "source": [
    "df_table.schema.fields"
   ]
  },
  {
   "cell_type": "code",
   "execution_count": null,
   "metadata": {},
   "outputs": [],
   "source": [
    "# Copying Table to GDC_DEMO DB\n",
    "copy_table_query  = f\"\"\"\n",
    "       CREATE TABLE IF NOT EXISTS GDC_DEMO.PUBLIC.dim_media_customers AS\n",
    "SELECT * FROM SPOTFLIX.PUBLIC.\"dim_media_customers\";\n",
    "    \"\"\"\n",
    "conn.sql(copy_table_query).collect()"
   ]
  },
  {
   "cell_type": "code",
   "execution_count": null,
   "metadata": {},
   "outputs": [],
   "source": [
    "gdc_dim_media_customers = conn.table(\"GDC_DEMO.PUBLIC.dim_media_customers\")\n",
    "gdc_dim_media_customers.show()"
   ]
  },
  {
   "cell_type": "code",
   "execution_count": null,
   "metadata": {},
   "outputs": [],
   "source": [
    "gdc_dim_media_customers.describe().show()\n"
   ]
  },
  {
   "cell_type": "code",
   "execution_count": null,
   "metadata": {},
   "outputs": [],
   "source": [
    "gdc_dim_media_customers"
   ]
  },
  {
   "cell_type": "code",
   "execution_count": null,
   "metadata": {},
   "outputs": [],
   "source": [
    "# Adding Churn Column \n",
    "\n",
    "churn_column_query  = f\"\"\"\n",
    "    ALTER TABLE GDC_DEMO.PUBLIC.DIM_MEDIA_CUSTOMERS\n",
    "ADD churn INT DEFAULT 0; -- Default value is 0\n",
    "    \"\"\"\n",
    "conn.sql(churn_column_query).collect()\n",
    "\n",
    "churn1_column_query  = f\"\"\"\n",
    "    UPDATE GDC_DEMO.PUBLIC.DIM_MEDIA_CUSTOMERS\n",
    "SET churn = CASE WHEN \"closedate\" IS NOT NULL THEN 1 ELSE 0 END;\n",
    "    \"\"\"\n",
    "conn.sql(churn1_column_query).collect()\n"
   ]
  },
  {
   "cell_type": "code",
   "execution_count": null,
   "metadata": {},
   "outputs": [],
   "source": [
    "# Adding Viewing_frequency Column \n",
    "\n",
    "viewing_frequency_column_query  = f\"\"\"\n",
    "    ALTER TABLE GDC_DEMO.PUBLIC.DIM_MEDIA_CUSTOMERS\n",
    "ADD viewing_frequency INT ;\n",
    "    \"\"\"\n",
    "conn.sql(viewing_frequency_column_query).collect()\n",
    "\n",
    "viewing_frequency1_column_query  = f\"\"\"\n",
    "    UPDATE GDC_DEMO.PUBLIC.DIM_MEDIA_CUSTOMERS AS c\n",
    "SET viewing_frequency = (\n",
    "    SELECT COUNT(*)\n",
    "    FROM SPOTFLIX.PUBLIC.\"fact_media_show_events\" AS e\n",
    "    WHERE e.\"customer_id\" = c.\"customer_id\"\n",
    ");\n",
    "    \"\"\"\n",
    "conn.sql(viewing_frequency1_column_query).collect()"
   ]
  },
  {
   "cell_type": "code",
   "execution_count": null,
   "metadata": {},
   "outputs": [],
   "source": [
    "# Adding Viewing_duration Column \n",
    "\n",
    "viewing_duration_column_query  = f\"\"\"\n",
    "    ALTER TABLE GDC_DEMO.PUBLIC.DIM_MEDIA_CUSTOMERS\n",
    "ADD viewing_duration INT ;\n",
    "    \"\"\"\n",
    "conn.sql(viewing_duration_column_query).collect()\n",
    "\n",
    "viewing_duration1_column_query  = f\"\"\"\n",
    "    UPDATE GDC_DEMO.PUBLIC.DIM_MEDIA_CUSTOMERS AS c\n",
    "SET viewing_duration = (\n",
    "    SELECT SUM(e.\"viewruntime\")\n",
    "    FROM SPOTFLIX.PUBLIC.\"fact_media_show_events\" AS e\n",
    "    WHERE e.\"customer_id\" = c.\"customer_id\"\n",
    ");\n",
    "    \"\"\"\n",
    "conn.sql(viewing_duration1_column_query).collect()"
   ]
  }
 ],
 "metadata": {
  "kernelspec": {
   "display_name": "Python 3",
   "language": "python",
   "name": "python3"
  },
  "language_info": {
   "codemirror_mode": {
    "name": "ipython",
    "version": 3
   },
   "file_extension": ".py",
   "mimetype": "text/x-python",
   "name": "python",
   "nbconvert_exporter": "python",
   "pygments_lexer": "ipython3",
   "version": "3.8.8rc1"
  },
  "orig_nbformat": 4
 },
 "nbformat": 4,
 "nbformat_minor": 2
}
