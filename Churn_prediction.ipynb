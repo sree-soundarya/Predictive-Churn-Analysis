{
 "cells": [
  {
   "cell_type": "markdown",
   "metadata": {},
   "source": [
    "## Import Libraries"
   ]
  },
  {
   "cell_type": "code",
   "execution_count": 11,
   "metadata": {},
   "outputs": [],
   "source": [
    "# ETL\n",
    "import os\n",
    "import json\n",
    "import joblib\n",
    "import numpy as np\n",
    "import pandas as pd\n",
    "from datetime import datetime, timedelta\n",
    "\n",
    "# Snowpark functions\n",
    "import snowflake.snowpark.functions as F\n",
    "from snowflake.snowpark.functions import lit\n",
    "from snowflake.snowpark.session import Session\n",
    "from snowflake.snowpark.version import VERSION\n",
    "\n",
    "# Encoding, training, prediction\n",
    "import xgboost as xgb\n",
    "import statsmodels.api as sm \n",
    "from sklearn.utils import class_weight\n",
    "from sklearn.feature_selection import chi2\n",
    "from sklearn.metrics import confusion_matrix\n",
    "from sklearn.preprocessing import LabelEncoder\n",
    "from sklearn.metrics import classification_report\n",
    "from sklearn.ensemble import RandomForestRegressor\n",
    "from sklearn.model_selection import train_test_split\n",
    "from sklearn.metrics import mean_squared_error, r2_score\n",
    "\n",
    "#Visualization\n",
    "import seaborn as sns\n",
    "import matplotlib.pyplot as plt\n",
    "\n"
   ]
  },
  {
   "cell_type": "markdown",
   "metadata": {},
   "source": [
    "## Connection to Snowflake Database"
   ]
  },
  {
   "cell_type": "code",
   "execution_count": 12,
   "metadata": {},
   "outputs": [
    {
     "name": "stdout",
     "output_type": "stream",
     "text": [
      "User                        : MOHAMMED\n",
      "Role                        : SE_ROLE\n",
      "Database                    : None\n",
      "Schema                      : None\n",
      "Warehouse                   : SE_DEMO_WH\n",
      "Snowflake version           : 7.41.0\n",
      "Snowpark for Python version : 1.5.1\n"
     ]
    }
   ],
   "source": [
    "# Create Snowflake Session object\n",
    "connection_parameters = json.load(open('connection.json'))\n",
    "conn = Session.builder.configs(connection_parameters).create()\n",
    "conn.sql_simplifier_enabled = True\n",
    "snowflake_environment = conn.sql('select current_user(), current_role(), current_database(), current_schema(), current_version(), current_warehouse()').collect()\n",
    "snowpark_version = VERSION\n",
    "# Current Environment Details\n",
    "print('User                        : {}'.format(snowflake_environment[0][0]))\n",
    "print('Role                        : {}'.format(snowflake_environment[0][1]))\n",
    "print('Database                    : {}'.format(snowflake_environment[0][2]))\n",
    "print('Schema                      : {}'.format(snowflake_environment[0][3]))\n",
    "print('Warehouse                   : {}'.format(snowflake_environment[0][5]))\n",
    "print('Snowflake version           : {}'.format(snowflake_environment[0][4]))\n",
    "print('Snowpark for Python version : {}.{}.{}'.format(snowpark_version[0],snowpark_version[1],snowpark_version[2]))"
   ]
  },
  {
   "cell_type": "markdown",
   "metadata": {},
   "source": [
    "## Get data from snowflake "
   ]
  },
  {
   "cell_type": "code",
   "execution_count": 13,
   "metadata": {},
   "outputs": [],
   "source": [
    "# Snowpark table import\n",
    "gdc_dim_media_customers = conn.table(\"GDC_DEMO.CHURN_PREDICTION.dim_media_customers\")\n",
    "gdc_fact_media_show_events = conn.table('SPOTFLIX.PUBLIC.\"fact_media_show_events\"')\n",
    "gdc_fact_media_subscription_events = conn.table('SPOTFLIX.PUBLIC.\"fact_media_subscription_events\"')\n",
    "gdc_dim_media_shows = conn.table('SPOTFLIX.PUBLIC.\"dim_media_shows\"')\n",
    "gdc_dim_media_episodes = conn.table('SPOTFLIX.PUBLIC.\"dim_media_episodes\"')\n",
    "gdc_fact_media_campaign_data = conn.table('SPOTFLIX.PUBLIC.\"fact_media_campaign_data\"')\n",
    "gdc_dim_media_campaign_data = conn.table('SPOTFLIX.PUBLIC.\"dim_media_campaign_data\"')\n",
    "dim_media_customer_counts = conn.table('SPOTFLIX.PUBLIC.\"dim_media_customer_counts\"')"
   ]
  },
  {
   "cell_type": "markdown",
   "metadata": {},
   "source": [
    "## Calculated columns"
   ]
  },
  {
   "cell_type": "code",
   "execution_count": 14,
   "metadata": {},
   "outputs": [
    {
     "name": "stdout",
     "output_type": "stream",
     "text": [
      "----------------------------------------------------------------------------------------------------------------------------------------------------------------------------------------------------------------------------------------\n",
      "|\"customer_id\"  |\"customer_name\"   |\"gender\"  |\"age\"  |\"age_group\"  |\"street_address\"        |\"city\"           |\"state\"  |\"zipcode\"  |\"county\"            |\"latitude\"  |\"longitude\"   |\"region\"   |\"opendate\"  |\"closedate\"  |\"CHURN\"  |\n",
      "----------------------------------------------------------------------------------------------------------------------------------------------------------------------------------------------------------------------------------------\n",
      "|1              |Alma Bassani      |Female    |18     |18-24        |329 4th Street          |Manhattan Beach  |CA       |90266      |Los Angeles County  |33.8804079  |-118.4063552  |West       |2018-03-09  |NULL         |0        |\n",
      "|2              |Sherry Blanck     |Female    |25     |25-34        |1170 NEWBURY LN E       |Mobile           |AL       |36695      |Mobile County       |30.6660304  |-88.21778     |South      |2017-10-18  |NULL         |0        |\n",
      "|3              |Frank Leehy       |Male      |81     |65+          |3070 S Hadley Rd        |Ortonville       |MI       |48462      |Oakland County      |42.806329   |-83.4151795   |Midwest    |2018-03-03  |2019-04-23   |1        |\n",
      "|4              |Warren Nease      |Male      |73     |65+          |1119 14TH St North      |Birmingham       |AL       |35204      |Jefferson County    |33.5229239  |-86.8219365   |South      |2018-03-25  |2018-07-30   |1        |\n",
      "|5              |Miguel Cavill     |Male      |37     |35-44        |7526 MUSTANG CORRAL DR  |Humble           |TX       |77338      |Harris County       |30.0123186  |-95.3103014   |Southwest  |2017-07-17  |2019-04-24   |1        |\n",
      "|6              |Jimmie Roberge    |Male      |28     |25-34        |5055 N BEACH RD         |Englewood        |FL       |34223      |Sarasota County     |26.9445612  |-82.3705677   |South      |2018-05-19  |NULL         |0        |\n",
      "|7              |Herman Eull       |Male      |25     |25-34        |239 B ELDER ST          |Greenville       |SC       |29607      |Greenville County   |34.8406215  |-82.3739721   |South      |2018-04-18  |NULL         |0        |\n",
      "|8              |Jane Bahn         |Female    |39     |35-44        |514 ANTRIM RD           |Xenia            |OH       |45385      |Greene County       |39.6912711  |-83.9429705   |Midwest    |2017-11-08  |NULL         |0        |\n",
      "|9              |Russell Poepping  |Male      |24     |18-24        |1786 200TH AVE          |New Richmond     |WI       |54017      |St Croix County     |45.1823546  |-92.4488986   |Midwest    |2018-04-08  |NULL         |0        |\n",
      "|10             |Roland Troidl     |Male      |38     |35-44        |1503 MARSHALL LN        |Austin           |TX       |78703      |Travis County       |30.282095   |-97.7556233   |Southwest  |2017-10-10  |NULL         |0        |\n",
      "----------------------------------------------------------------------------------------------------------------------------------------------------------------------------------------------------------------------------------------\n",
      "\n",
      "----------------------------------------------------------------------------------------------------------------------------------------------------------------------------------------------------------------------------------------------------\n",
      "|\"SUMMARY\"  |\"customer_id\"      |\"customer_name\"   |\"gender\"  |\"age\"               |\"age_group\"  |\"street_address\"  |\"city\"      |\"state\"  |\"zipcode\"  |\"county\"         |\"latitude\"          |\"longitude\"         |\"region\"  |\"CHURN\"             |\n",
      "----------------------------------------------------------------------------------------------------------------------------------------------------------------------------------------------------------------------------------------------------\n",
      "|count      |50000.0            |50000             |50000     |50000.0             |50000        |50000             |50000       |50000    |50000      |49990            |50000.0             |50000.0             |50000     |50000.0             |\n",
      "|mean       |25000.5            |NULL              |NULL      |42.84702            |NULL         |NULL              |NULL        |NULL     |NULL       |NULL             |37.24522367577      |-93.68893839504801  |NULL      |0.32588             |\n",
      "|stddev     |14433.90106658626  |NULL              |NULL      |17.093322117131006  |NULL         |NULL              |NULL        |NULL     |NULL       |NULL             |5.2512777811381195  |19.550242425252076  |NULL      |0.4687077981002663  |\n",
      "|min        |1.0                |Aaron Abrecht     |Female    |18.0                |18-24        |0 *UNASSIGNED*    |Abbotsford  |AL       |01001      |Accomack County  |24.5489697          |-124.502256         |East      |0.0                 |\n",
      "|max        |50000.0            |Zachary Wuensche  |Male      |85.0                |65+          |9S220 LAKE DR     |Zuni        |WY       |99362      |Yuba County      |48.9715758          |105.37233           |West      |1.0                 |\n",
      "----------------------------------------------------------------------------------------------------------------------------------------------------------------------------------------------------------------------------------------------------\n",
      "\n"
     ]
    }
   ],
   "source": [
    "# Churn Column is created using closedate column\n",
    "\n",
    "gdc_dim_media_customers = gdc_dim_media_customers.with_column('churn',\n",
    "                    F.when((F.col('\"closedate\"').is_null()) , 0 ).otherwise(1))\n",
    "gdc_dim_media_customers.show()\n",
    "gdc_dim_media_customers.describe().show()"
   ]
  },
  {
   "cell_type": "code",
   "execution_count": 15,
   "metadata": {},
   "outputs": [
    {
     "name": "stdout",
     "output_type": "stream",
     "text": [
      "--------------------------------------------------------------------------------------------------------------------------------------------------------------------------------------------------------------------------------------------------------------\n",
      "|\"customer_id\"  |\"customer_name\"   |\"gender\"  |\"age\"  |\"age_group\"  |\"street_address\"        |\"city\"           |\"state\"  |\"zipcode\"  |\"county\"            |\"latitude\"  |\"longitude\"   |\"region\"   |\"opendate\"  |\"closedate\"  |\"CHURN\"  |\"VIEWING_FREQUENCY\"  |\n",
      "--------------------------------------------------------------------------------------------------------------------------------------------------------------------------------------------------------------------------------------------------------------\n",
      "|1              |Alma Bassani      |Female    |18     |18-24        |329 4th Street          |Manhattan Beach  |CA       |90266      |Los Angeles County  |33.8804079  |-118.4063552  |West       |2018-03-09  |NULL         |0        |186                  |\n",
      "|2              |Sherry Blanck     |Female    |25     |25-34        |1170 NEWBURY LN E       |Mobile           |AL       |36695      |Mobile County       |30.6660304  |-88.21778     |South      |2017-10-18  |NULL         |0        |141                  |\n",
      "|3              |Frank Leehy       |Male      |81     |65+          |3070 S Hadley Rd        |Ortonville       |MI       |48462      |Oakland County      |42.806329   |-83.4151795   |Midwest    |2018-03-03  |2019-04-23   |1        |139                  |\n",
      "|4              |Warren Nease      |Male      |73     |65+          |1119 14TH St North      |Birmingham       |AL       |35204      |Jefferson County    |33.5229239  |-86.8219365   |South      |2018-03-25  |2018-07-30   |1        |11                   |\n",
      "|5              |Miguel Cavill     |Male      |37     |35-44        |7526 MUSTANG CORRAL DR  |Humble           |TX       |77338      |Harris County       |30.0123186  |-95.3103014   |Southwest  |2017-07-17  |2019-04-24   |1        |169                  |\n",
      "|6              |Jimmie Roberge    |Male      |28     |25-34        |5055 N BEACH RD         |Englewood        |FL       |34223      |Sarasota County     |26.9445612  |-82.3705677   |South      |2018-05-19  |NULL         |0        |170                  |\n",
      "|7              |Herman Eull       |Male      |25     |25-34        |239 B ELDER ST          |Greenville       |SC       |29607      |Greenville County   |34.8406215  |-82.3739721   |South      |2018-04-18  |NULL         |0        |101                  |\n",
      "|8              |Jane Bahn         |Female    |39     |35-44        |514 ANTRIM RD           |Xenia            |OH       |45385      |Greene County       |39.6912711  |-83.9429705   |Midwest    |2017-11-08  |NULL         |0        |216                  |\n",
      "|9              |Russell Poepping  |Male      |24     |18-24        |1786 200TH AVE          |New Richmond     |WI       |54017      |St Croix County     |45.1823546  |-92.4488986   |Midwest    |2018-04-08  |NULL         |0        |114                  |\n",
      "|10             |Roland Troidl     |Male      |38     |35-44        |1503 MARSHALL LN        |Austin           |TX       |78703      |Travis County       |30.282095   |-97.7556233   |Southwest  |2017-10-10  |NULL         |0        |238                  |\n",
      "--------------------------------------------------------------------------------------------------------------------------------------------------------------------------------------------------------------------------------------------------------------\n",
      "\n",
      "--------------------------------------------------------------------------------------------------------------------------------------------------------------------------------------------------------------------------------------------------------------------------\n",
      "|\"SUMMARY\"  |\"customer_id\"      |\"customer_name\"   |\"gender\"  |\"age\"               |\"age_group\"  |\"street_address\"  |\"city\"      |\"state\"  |\"zipcode\"  |\"county\"         |\"latitude\"          |\"longitude\"         |\"region\"  |\"CHURN\"             |\"VIEWING_FREQUENCY\"  |\n",
      "--------------------------------------------------------------------------------------------------------------------------------------------------------------------------------------------------------------------------------------------------------------------------\n",
      "|stddev     |14433.90106658626  |NULL              |NULL      |17.093322117131006  |NULL         |NULL              |NULL        |NULL     |NULL       |NULL             |5.2512777811381195  |19.550242425252076  |NULL      |0.4687077981002663  |72.12579388817845    |\n",
      "|mean       |25000.5            |NULL              |NULL      |42.84702            |NULL         |NULL              |NULL        |NULL     |NULL       |NULL             |37.24522367577      |-93.68893839504801  |NULL      |0.32588             |84.667762            |\n",
      "|min        |1.0                |Aaron Abrecht     |Female    |18.0                |18-24        |0 *UNASSIGNED*    |Abbotsford  |AL       |01001      |Accomack County  |24.5489697          |-124.502256         |East      |0.0                 |1.0                  |\n",
      "|count      |50000.0            |50000             |50000     |50000.0             |50000        |50000             |50000       |50000    |50000      |49990            |50000.0             |50000.0             |50000     |50000.0             |49305.0              |\n",
      "|max        |50000.0            |Zachary Wuensche  |Male      |85.0                |65+          |9S220 LAKE DR     |Zuni        |WY       |99362      |Yuba County      |48.9715758          |105.37233           |West      |1.0                 |346.0                |\n",
      "--------------------------------------------------------------------------------------------------------------------------------------------------------------------------------------------------------------------------------------------------------------------------\n",
      "\n"
     ]
    }
   ],
   "source": [
    "# Viewing Frequency \n",
    "# Aggregated column at customer level created using individual viewing frequencies\n",
    "viewing_frequency_df = gdc_dim_media_customers.join(gdc_fact_media_show_events,'\"customer_id\"').group_by('\"customer_id\"').count().withColumnRenamed(\"count\", \"viewing_frequency\")\n",
    "gdc_dim_media_customers = gdc_dim_media_customers.join(viewing_frequency_df, '\"customer_id\"',\"left\")\n",
    "gdc_dim_media_customers.show()\n",
    "gdc_dim_media_customers.describe().show()"
   ]
  },
  {
   "cell_type": "code",
   "execution_count": 16,
   "metadata": {},
   "outputs": [
    {
     "name": "stdout",
     "output_type": "stream",
     "text": [
      "--------------------------------------------------------------------------------------------------------------------------------------------------------------------------------------------------------------------------------------------------------------------------------------\n",
      "|\"customer_id\"  |\"customer_name\"   |\"gender\"  |\"age\"  |\"age_group\"  |\"street_address\"        |\"city\"           |\"state\"  |\"zipcode\"  |\"county\"            |\"latitude\"  |\"longitude\"   |\"region\"   |\"opendate\"  |\"closedate\"  |\"CHURN\"  |\"VIEWING_FREQUENCY\"  |\"TOTAL_VIEW_DURATION\"  |\n",
      "--------------------------------------------------------------------------------------------------------------------------------------------------------------------------------------------------------------------------------------------------------------------------------------\n",
      "|1              |Alma Bassani      |Female    |18     |18-24        |329 4th Street          |Manhattan Beach  |CA       |90266      |Los Angeles County  |33.8804079  |-118.4063552  |West       |2018-03-09  |NULL         |0        |186                  |7057                   |\n",
      "|2              |Sherry Blanck     |Female    |25     |25-34        |1170 NEWBURY LN E       |Mobile           |AL       |36695      |Mobile County       |30.6660304  |-88.21778     |South      |2017-10-18  |NULL         |0        |141                  |7376                   |\n",
      "|3              |Frank Leehy       |Male      |81     |65+          |3070 S Hadley Rd        |Ortonville       |MI       |48462      |Oakland County      |42.806329   |-83.4151795   |Midwest    |2018-03-03  |2019-04-23   |1        |139                  |5592                   |\n",
      "|4              |Warren Nease      |Male      |73     |65+          |1119 14TH St North      |Birmingham       |AL       |35204      |Jefferson County    |33.5229239  |-86.8219365   |South      |2018-03-25  |2018-07-30   |1        |11                   |589                    |\n",
      "|5              |Miguel Cavill     |Male      |37     |35-44        |7526 MUSTANG CORRAL DR  |Humble           |TX       |77338      |Harris County       |30.0123186  |-95.3103014   |Southwest  |2017-07-17  |2019-04-24   |1        |169                  |7651                   |\n",
      "|6              |Jimmie Roberge    |Male      |28     |25-34        |5055 N BEACH RD         |Englewood        |FL       |34223      |Sarasota County     |26.9445612  |-82.3705677   |South      |2018-05-19  |NULL         |0        |170                  |6684                   |\n",
      "|7              |Herman Eull       |Male      |25     |25-34        |239 B ELDER ST          |Greenville       |SC       |29607      |Greenville County   |34.8406215  |-82.3739721   |South      |2018-04-18  |NULL         |0        |101                  |4512                   |\n",
      "|8              |Jane Bahn         |Female    |39     |35-44        |514 ANTRIM RD           |Xenia            |OH       |45385      |Greene County       |39.6912711  |-83.9429705   |Midwest    |2017-11-08  |NULL         |0        |216                  |9121                   |\n",
      "|9              |Russell Poepping  |Male      |24     |18-24        |1786 200TH AVE          |New Richmond     |WI       |54017      |St Croix County     |45.1823546  |-92.4488986   |Midwest    |2018-04-08  |NULL         |0        |114                  |5145                   |\n",
      "|10             |Roland Troidl     |Male      |38     |35-44        |1503 MARSHALL LN        |Austin           |TX       |78703      |Travis County       |30.282095   |-97.7556233   |Southwest  |2017-10-10  |NULL         |0        |238                  |10461                  |\n",
      "--------------------------------------------------------------------------------------------------------------------------------------------------------------------------------------------------------------------------------------------------------------------------------------\n",
      "\n",
      "--------------------------------------------------------------------------------------------------------------------------------------------------------------------------------------------------------------------------------------------------------------------------------------------------\n",
      "|\"SUMMARY\"  |\"customer_id\"      |\"customer_name\"   |\"gender\"  |\"age\"               |\"age_group\"  |\"street_address\"  |\"city\"      |\"state\"  |\"zipcode\"  |\"county\"         |\"latitude\"          |\"longitude\"         |\"region\"  |\"CHURN\"             |\"VIEWING_FREQUENCY\"  |\"TOTAL_VIEW_DURATION\"  |\n",
      "--------------------------------------------------------------------------------------------------------------------------------------------------------------------------------------------------------------------------------------------------------------------------------------------------\n",
      "|stddev     |14433.90106658626  |NULL              |NULL      |17.093322117131006  |NULL         |NULL              |NULL        |NULL     |NULL       |NULL             |5.2512777811381195  |19.550242425252076  |NULL      |0.4687077981002663  |72.12579388817845    |3274.2932110092097     |\n",
      "|count      |50000.0            |50000             |50000     |50000.0             |50000        |50000             |50000       |50000    |50000      |49990            |50000.0             |50000.0             |50000     |50000.0             |49305.0              |49305.0                |\n",
      "|max        |50000.0            |Zachary Wuensche  |Male      |85.0                |65+          |9S220 LAKE DR     |Zuni        |WY       |99362      |Yuba County      |48.9715758          |105.37233           |West      |1.0                 |346.0                |16577.0                |\n",
      "|min        |1.0                |Aaron Abrecht     |Female    |18.0                |18-24        |0 *UNASSIGNED*    |Abbotsford  |AL       |01001      |Accomack County  |24.5489697          |-124.502256         |East      |0.0                 |1.0                  |0.0                    |\n",
      "|mean       |25000.5            |NULL              |NULL      |42.84702            |NULL         |NULL              |NULL        |NULL     |NULL       |NULL             |37.24522367577      |-93.68893839504801  |NULL      |0.32588             |84.667762            |3815.787283            |\n",
      "--------------------------------------------------------------------------------------------------------------------------------------------------------------------------------------------------------------------------------------------------------------------------------------------------\n",
      "\n"
     ]
    }
   ],
   "source": [
    "# Total View Duration\n",
    "# Aggregated column at customer level created using view run time \n",
    "Total_view_Duration_df = gdc_dim_media_customers.join(gdc_fact_media_show_events,'\"customer_id\"').group_by('\"customer_id\"').sum('\"viewruntime\"',).withColumnRenamed(\"SUM(VIEWRUNTIME)\", \"Total_view_Duration\")\n",
    "gdc_dim_media_customers = gdc_dim_media_customers.join(Total_view_Duration_df, '\"customer_id\"',\"left\")\n",
    "gdc_dim_media_customers.show()\n",
    "gdc_dim_media_customers.describe().show()"
   ]
  },
  {
   "cell_type": "code",
   "execution_count": 17,
   "metadata": {},
   "outputs": [
    {
     "name": "stdout",
     "output_type": "stream",
     "text": [
      "------------------------------------------------------------------------------------------------------------------------------------------------------------------------------------------------------------------------------------------------------------------------------------------------------------\n",
      "|\"customer_id\"  |\"customer_name\"   |\"gender\"  |\"age\"  |\"age_group\"  |\"street_address\"        |\"city\"           |\"state\"  |\"zipcode\"  |\"county\"            |\"latitude\"  |\"longitude\"   |\"region\"   |\"opendate\"  |\"closedate\"  |\"CHURN\"  |\"VIEWING_FREQUENCY\"  |\"TOTAL_VIEW_DURATION\"  |\"TOTAL_NO_OF_SHOWS\"  |\n",
      "------------------------------------------------------------------------------------------------------------------------------------------------------------------------------------------------------------------------------------------------------------------------------------------------------------\n",
      "|1              |Alma Bassani      |Female    |18     |18-24        |329 4th Street          |Manhattan Beach  |CA       |90266      |Los Angeles County  |33.8804079  |-118.4063552  |West       |2018-03-09  |NULL         |0        |186                  |7057                   |25                   |\n",
      "|2              |Sherry Blanck     |Female    |25     |25-34        |1170 NEWBURY LN E       |Mobile           |AL       |36695      |Mobile County       |30.6660304  |-88.21778     |South      |2017-10-18  |NULL         |0        |141                  |7376                   |14                   |\n",
      "|3              |Frank Leehy       |Male      |81     |65+          |3070 S Hadley Rd        |Ortonville       |MI       |48462      |Oakland County      |42.806329   |-83.4151795   |Midwest    |2018-03-03  |2019-04-23   |1        |139                  |5592                   |22                   |\n",
      "|4              |Warren Nease      |Male      |73     |65+          |1119 14TH St North      |Birmingham       |AL       |35204      |Jefferson County    |33.5229239  |-86.8219365   |South      |2018-03-25  |2018-07-30   |1        |11                   |589                    |2                    |\n",
      "|5              |Miguel Cavill     |Male      |37     |35-44        |7526 MUSTANG CORRAL DR  |Humble           |TX       |77338      |Harris County       |30.0123186  |-95.3103014   |Southwest  |2017-07-17  |2019-04-24   |1        |169                  |7651                   |21                   |\n",
      "|6              |Jimmie Roberge    |Male      |28     |25-34        |5055 N BEACH RD         |Englewood        |FL       |34223      |Sarasota County     |26.9445612  |-82.3705677   |South      |2018-05-19  |NULL         |0        |170                  |6684                   |17                   |\n",
      "|7              |Herman Eull       |Male      |25     |25-34        |239 B ELDER ST          |Greenville       |SC       |29607      |Greenville County   |34.8406215  |-82.3739721   |South      |2018-04-18  |NULL         |0        |101                  |4512                   |14                   |\n",
      "|8              |Jane Bahn         |Female    |39     |35-44        |514 ANTRIM RD           |Xenia            |OH       |45385      |Greene County       |39.6912711  |-83.9429705   |Midwest    |2017-11-08  |NULL         |0        |216                  |9121                   |28                   |\n",
      "|9              |Russell Poepping  |Male      |24     |18-24        |1786 200TH AVE          |New Richmond     |WI       |54017      |St Croix County     |45.1823546  |-92.4488986   |Midwest    |2018-04-08  |NULL         |0        |114                  |5145                   |14                   |\n",
      "|10             |Roland Troidl     |Male      |38     |35-44        |1503 MARSHALL LN        |Austin           |TX       |78703      |Travis County       |30.282095   |-97.7556233   |Southwest  |2017-10-10  |NULL         |0        |238                  |10461                  |28                   |\n",
      "------------------------------------------------------------------------------------------------------------------------------------------------------------------------------------------------------------------------------------------------------------------------------------------------------------\n",
      "\n",
      "------------------------------------------------------------------------------------------------------------------------------------------------------------------------------------------------------------------------------------------------------------------------------------------------------------------------\n",
      "|\"SUMMARY\"  |\"customer_id\"      |\"customer_name\"   |\"gender\"  |\"age\"               |\"age_group\"  |\"street_address\"  |\"city\"      |\"state\"  |\"zipcode\"  |\"county\"         |\"latitude\"          |\"longitude\"         |\"region\"  |\"CHURN\"             |\"VIEWING_FREQUENCY\"  |\"TOTAL_VIEW_DURATION\"  |\"TOTAL_NO_OF_SHOWS\"  |\n",
      "------------------------------------------------------------------------------------------------------------------------------------------------------------------------------------------------------------------------------------------------------------------------------------------------------------------------\n",
      "|count      |50000.0            |50000             |50000     |50000.0             |50000        |50000             |50000       |50000    |50000      |49990            |50000.0             |50000.0             |50000     |50000.0             |49305.0              |49305.0                |49305.0              |\n",
      "|stddev     |14433.90106658626  |NULL              |NULL      |17.093322117131006  |NULL         |NULL              |NULL        |NULL     |NULL       |NULL             |5.2512777811381195  |19.550242425252076  |NULL      |0.4687077981002663  |72.12579388817845    |3274.2932110092097     |8.04959694643154     |\n",
      "|min        |1.0                |Aaron Abrecht     |Female    |18.0                |18-24        |0 *UNASSIGNED*    |Abbotsford  |AL       |01001      |Accomack County  |24.5489697          |-124.502256         |East      |0.0                 |1.0                  |0.0                    |1.0                  |\n",
      "|max        |50000.0            |Zachary Wuensche  |Male      |85.0                |65+          |9S220 LAKE DR     |Zuni        |WY       |99362      |Yuba County      |48.9715758          |105.37233           |West      |1.0                 |346.0                |16577.0                |30.0                 |\n",
      "|mean       |25000.5            |NULL              |NULL      |42.84702            |NULL         |NULL              |NULL        |NULL     |NULL       |NULL             |37.24522367577      |-93.68893839504801  |NULL      |0.32588             |84.667762            |3815.787283            |10.423608            |\n",
      "------------------------------------------------------------------------------------------------------------------------------------------------------------------------------------------------------------------------------------------------------------------------------------------------------------------------\n",
      "\n"
     ]
    }
   ],
   "source": [
    "# Total No. of Shows\n",
    "# Aggregated column at customer level created using show ids\n",
    "total_shows_df = gdc_dim_media_customers.join(gdc_fact_media_show_events,'\"customer_id\"').group_by('\"customer_id\"','\"show_id\"').count()\n",
    "total_shows_df = total_shows_df.group_by('\"customer_id\"').count().withColumnRenamed(\"count\", \"Total_No_of_shows\")\n",
    "gdc_dim_media_customers = gdc_dim_media_customers.join(total_shows_df, '\"customer_id\"', \"left\")\n",
    "gdc_dim_media_customers.show()\n",
    "gdc_dim_media_customers.describe().show()"
   ]
  },
  {
   "cell_type": "markdown",
   "metadata": {},
   "source": [
    "#### Save the data to snowflake table"
   ]
  },
  {
   "cell_type": "code",
   "execution_count": 18,
   "metadata": {},
   "outputs": [],
   "source": [
    "# Writing dataframe with all columns to Snowflake table\n",
    "DF_with_all_Columns = gdc_dim_media_customers\n",
    "\n",
    "DF_with_all_Columns.write.mode(\"overwrite\").save_as_table(\"GDC_DEMO.CHURN_PREDICTION.customer_data_with_calculated_columns\") #same as DF_with_all_Columns table\n"
   ]
  },
  {
   "cell_type": "markdown",
   "metadata": {},
   "source": [
    "## Data Cleaning"
   ]
  },
  {
   "cell_type": "code",
   "execution_count": 19,
   "metadata": {},
   "outputs": [
    {
     "name": "stdout",
     "output_type": "stream",
     "text": [
      "--------------------------------------------\n",
      "|\"customer_id\"  |\"opendate\"  |\"closedate\"  |\n",
      "--------------------------------------------\n",
      "|1              |2018-03-09  |NULL         |\n",
      "|2              |2017-10-18  |NULL         |\n",
      "|3              |2018-03-03  |2019-04-23   |\n",
      "|4              |2018-03-25  |2018-07-30   |\n",
      "|5              |2017-07-17  |2019-04-24   |\n",
      "|6              |2018-05-19  |NULL         |\n",
      "|7              |2018-04-18  |NULL         |\n",
      "|8              |2017-11-08  |NULL         |\n",
      "|9              |2018-04-08  |NULL         |\n",
      "|10             |2017-10-10  |NULL         |\n",
      "--------------------------------------------\n",
      "\n"
     ]
    }
   ],
   "source": [
    "date_columns = gdc_dim_media_customers.select(F.col('\"customer_id\"'),F.col('\"opendate\"'),F.col('\"closedate\"'))\n",
    "date_columns.show()"
   ]
  },
  {
   "cell_type": "code",
   "execution_count": 20,
   "metadata": {},
   "outputs": [
    {
     "name": "stdout",
     "output_type": "stream",
     "text": [
      "---------------------------------------------------------------------------------------------------------------------------------------------------------------------------------------------------------------------------------------------------------------------------------\n",
      "|\"customer_id\"  |\"customer_name\"   |\"gender\"  |\"age\"  |\"age_group\"  |\"street_address\"        |\"city\"           |\"state\"  |\"zipcode\"  |\"county\"            |\"latitude\"  |\"longitude\"   |\"region\"   |\"CHURN\"  |\"VIEWING_FREQUENCY\"  |\"TOTAL_VIEW_DURATION\"  |\"TOTAL_NO_OF_SHOWS\"  |\n",
      "---------------------------------------------------------------------------------------------------------------------------------------------------------------------------------------------------------------------------------------------------------------------------------\n",
      "|1              |Alma Bassani      |Female    |18     |18-24        |329 4th Street          |Manhattan Beach  |CA       |90266      |Los Angeles County  |33.8804079  |-118.4063552  |West       |0        |186                  |7057                   |25                   |\n",
      "|2              |Sherry Blanck     |Female    |25     |25-34        |1170 NEWBURY LN E       |Mobile           |AL       |36695      |Mobile County       |30.6660304  |-88.21778     |South      |0        |141                  |7376                   |14                   |\n",
      "|3              |Frank Leehy       |Male      |81     |65+          |3070 S Hadley Rd        |Ortonville       |MI       |48462      |Oakland County      |42.806329   |-83.4151795   |Midwest    |1        |139                  |5592                   |22                   |\n",
      "|4              |Warren Nease      |Male      |73     |65+          |1119 14TH St North      |Birmingham       |AL       |35204      |Jefferson County    |33.5229239  |-86.8219365   |South      |1        |11                   |589                    |2                    |\n",
      "|5              |Miguel Cavill     |Male      |37     |35-44        |7526 MUSTANG CORRAL DR  |Humble           |TX       |77338      |Harris County       |30.0123186  |-95.3103014   |Southwest  |1        |169                  |7651                   |21                   |\n",
      "|6              |Jimmie Roberge    |Male      |28     |25-34        |5055 N BEACH RD         |Englewood        |FL       |34223      |Sarasota County     |26.9445612  |-82.3705677   |South      |0        |170                  |6684                   |17                   |\n",
      "|7              |Herman Eull       |Male      |25     |25-34        |239 B ELDER ST          |Greenville       |SC       |29607      |Greenville County   |34.8406215  |-82.3739721   |South      |0        |101                  |4512                   |14                   |\n",
      "|8              |Jane Bahn         |Female    |39     |35-44        |514 ANTRIM RD           |Xenia            |OH       |45385      |Greene County       |39.6912711  |-83.9429705   |Midwest    |0        |216                  |9121                   |28                   |\n",
      "|9              |Russell Poepping  |Male      |24     |18-24        |1786 200TH AVE          |New Richmond     |WI       |54017      |St Croix County     |45.1823546  |-92.4488986   |Midwest    |0        |114                  |5145                   |14                   |\n",
      "|10             |Roland Troidl     |Male      |38     |35-44        |1503 MARSHALL LN        |Austin           |TX       |78703      |Travis County       |30.282095   |-97.7556233   |Southwest  |0        |238                  |10461                  |28                   |\n",
      "---------------------------------------------------------------------------------------------------------------------------------------------------------------------------------------------------------------------------------------------------------------------------------\n",
      "\n"
     ]
    }
   ],
   "source": [
    "# Dropping opendate, closedate\n",
    "\n",
    "gdc_dim_media_customers = gdc_dim_media_customers.drop('\"opendate\"','\"closedate\"')\n",
    "gdc_dim_media_customers.show()"
   ]
  },
  {
   "cell_type": "markdown",
   "metadata": {},
   "source": [
    "### Null Value Imputation "
   ]
  },
  {
   "cell_type": "code",
   "execution_count": 21,
   "metadata": {},
   "outputs": [],
   "source": [
    "# Replacing Null values with Mean/ Median values of each column based on EDA Results \n",
    "\n",
    "gdc_dim_media_customers = gdc_dim_media_customers.with_column(\"VIEWING_FREQUENCY\", F.call_builtin(\"ifnull\", F.col(\"VIEWING_FREQUENCY\"), F.median(F.col(\"VIEWING_FREQUENCY\")).over()))\n",
    "gdc_dim_media_customers = gdc_dim_media_customers.with_column(\"TOTAL_VIEW_DURATION\", F.call_builtin(\"ifnull\", F.col(\"TOTAL_VIEW_DURATION\"), F.median(F.col(\"TOTAL_VIEW_DURATION\")).over()))\n",
    "gdc_dim_media_customers = gdc_dim_media_customers.with_column(\"TOTAL_NO_OF_SHOWS\", F.call_builtin(\"ifnull\", F.col(\"TOTAL_NO_OF_SHOWS\"), F.mean(F.col(\"TOTAL_NO_OF_SHOWS\")).over()))\n",
    "\n"
   ]
  },
  {
   "cell_type": "code",
   "execution_count": 22,
   "metadata": {},
   "outputs": [],
   "source": [
    "# Replacing few(in 10's) NULL county rows with 'Los Angeles County', which is the highest count in the County column\n",
    "gdc_dim_media_customers = gdc_dim_media_customers.fillna({'\"county\"': 'Los Angeles County'})"
   ]
  },
  {
   "cell_type": "code",
   "execution_count": 23,
   "metadata": {},
   "outputs": [],
   "source": [
    "# results_df - used to store results after prediction\n",
    "\n",
    "results_df = gdc_dim_media_customers.copy()"
   ]
  },
  {
   "cell_type": "markdown",
   "metadata": {},
   "source": [
    "#### Upload cleaned data to a snowflake table"
   ]
  },
  {
   "cell_type": "code",
   "execution_count": 24,
   "metadata": {},
   "outputs": [],
   "source": [
    "# Writing dataframe with Null Values Imputed to Snowflake table\n",
    "# DF_with_Null_Imputation = gdc_dim_media_customers\n",
    "gdc_dim_media_customers.write.mode(\"overwrite\").save_as_table(\"GDC_DEMO.CHURN_PREDICTION.cleaned_customer_data\")#same as DF_with_Null_Imputation table\n"
   ]
  },
  {
   "cell_type": "markdown",
   "metadata": {},
   "source": [
    "### Encoding categorical Feature columns"
   ]
  },
  {
   "cell_type": "markdown",
   "metadata": {},
   "source": [
    "#### gender , age group can be mapped to numerical values "
   ]
  },
  {
   "cell_type": "code",
   "execution_count": 25,
   "metadata": {},
   "outputs": [
    {
     "name": "stdout",
     "output_type": "stream",
     "text": [
      "---------------------------------------------------------------------------------------------------------------------------------------------------------------------------------------------------------------------------------------------------------------------------------\n",
      "|\"customer_id\"  |\"customer_name\"   |\"age\"  |\"age_group\"  |\"street_address\"        |\"city\"           |\"state\"  |\"zipcode\"  |\"county\"            |\"latitude\"  |\"longitude\"   |\"region\"   |\"CHURN\"  |\"VIEWING_FREQUENCY\"  |\"TOTAL_VIEW_DURATION\"  |\"TOTAL_NO_OF_SHOWS\"  |\"gender\"  |\n",
      "---------------------------------------------------------------------------------------------------------------------------------------------------------------------------------------------------------------------------------------------------------------------------------\n",
      "|1              |Alma Bassani      |18     |18-24        |329 4th Street          |Manhattan Beach  |CA       |90266      |Los Angeles County  |33.8804079  |-118.4063552  |West       |0        |186.000              |7057.000               |25.000               |0         |\n",
      "|2              |Sherry Blanck     |25     |25-34        |1170 NEWBURY LN E       |Mobile           |AL       |36695      |Mobile County       |30.6660304  |-88.21778     |South      |0        |141.000              |7376.000               |14.000               |0         |\n",
      "|3              |Frank Leehy       |81     |65+          |3070 S Hadley Rd        |Ortonville       |MI       |48462      |Oakland County      |42.806329   |-83.4151795   |Midwest    |1        |139.000              |5592.000               |22.000               |1         |\n",
      "|4              |Warren Nease      |73     |65+          |1119 14TH St North      |Birmingham       |AL       |35204      |Jefferson County    |33.5229239  |-86.8219365   |South      |1        |11.000               |589.000                |2.000                |1         |\n",
      "|5              |Miguel Cavill     |37     |35-44        |7526 MUSTANG CORRAL DR  |Humble           |TX       |77338      |Harris County       |30.0123186  |-95.3103014   |Southwest  |1        |169.000              |7651.000               |21.000               |1         |\n",
      "|6              |Jimmie Roberge    |28     |25-34        |5055 N BEACH RD         |Englewood        |FL       |34223      |Sarasota County     |26.9445612  |-82.3705677   |South      |0        |170.000              |6684.000               |17.000               |1         |\n",
      "|7              |Herman Eull       |25     |25-34        |239 B ELDER ST          |Greenville       |SC       |29607      |Greenville County   |34.8406215  |-82.3739721   |South      |0        |101.000              |4512.000               |14.000               |1         |\n",
      "|8              |Jane Bahn         |39     |35-44        |514 ANTRIM RD           |Xenia            |OH       |45385      |Greene County       |39.6912711  |-83.9429705   |Midwest    |0        |216.000              |9121.000               |28.000               |0         |\n",
      "|9              |Russell Poepping  |24     |18-24        |1786 200TH AVE          |New Richmond     |WI       |54017      |St Croix County     |45.1823546  |-92.4488986   |Midwest    |0        |114.000              |5145.000               |14.000               |1         |\n",
      "|10             |Roland Troidl     |38     |35-44        |1503 MARSHALL LN        |Austin           |TX       |78703      |Travis County       |30.282095   |-97.7556233   |Southwest  |0        |238.000              |10461.000              |28.000               |1         |\n",
      "---------------------------------------------------------------------------------------------------------------------------------------------------------------------------------------------------------------------------------------------------------------------------------\n",
      "\n",
      "-----------------------------------------------------------------------------------------------------------------------------------------------------------------------------------------------------------------------------------------------------------------------------------------------------------------------------------\n",
      "|\"SUMMARY\"  |\"customer_id\"      |\"customer_name\"   |\"age\"               |\"age_group\"  |\"street_address\"  |\"city\"      |\"state\"  |\"zipcode\"  |\"county\"         |\"latitude\"          |\"longitude\"         |\"region\"  |\"CHURN\"             |\"VIEWING_FREQUENCY\"  |\"TOTAL_VIEW_DURATION\"  |\"TOTAL_NO_OF_SHOWS\"  |\"gender\"             |\n",
      "-----------------------------------------------------------------------------------------------------------------------------------------------------------------------------------------------------------------------------------------------------------------------------------------------------------------------------------\n",
      "|stddev     |14433.90106658626  |NULL              |17.093322117131006  |NULL         |NULL              |NULL        |NULL     |NULL       |NULL             |5.2512777811381195  |19.550242425252076  |NULL      |0.4687077981002663  |71.63169848454073    |3252.0284174588332     |7.9934553425803285   |0.49999299995099933  |\n",
      "|min        |1.0                |Aaron Abrecht     |18.0                |18-24        |0 *UNASSIGNED*    |Abbotsford  |AL       |01001      |Accomack County  |24.5489697          |-124.502256         |East      |0.0                 |1.0                  |0.0                    |1.0                  |0.0                  |\n",
      "|mean       |25000.5            |NULL              |42.84702            |NULL         |NULL              |NULL        |NULL     |NULL       |NULL             |37.24522367577      |-93.68893839504801  |NULL      |0.32588             |84.53338             |3808.54834             |10.4235997           |0.4965               |\n",
      "|count      |50000.0            |50000             |50000.0             |50000        |50000             |50000       |50000    |50000      |50000            |50000.0             |50000.0             |50000     |50000.0             |50000.0              |50000.0                |50000.0              |50000.0              |\n",
      "|max        |50000.0            |Zachary Wuensche  |85.0                |65+          |9S220 LAKE DR     |Zuni        |WY       |99362      |Yuba County      |48.9715758          |105.37233           |West      |1.0                 |346.0                |16577.0                |30.0                 |1.0                  |\n",
      "-----------------------------------------------------------------------------------------------------------------------------------------------------------------------------------------------------------------------------------------------------------------------------------------------------------------------------------\n",
      "\n"
     ]
    }
   ],
   "source": [
    "# Encoding Gender Column\n",
    "\n",
    "gdc_dim_media_customers = gdc_dim_media_customers.with_column('\"gender\"',\n",
    "                    F.when((F.col('\"gender\"')=='Female') , 0 ).otherwise(1))\n",
    "gdc_dim_media_customers.show()\n",
    "gdc_dim_media_customers.describe().show()"
   ]
  },
  {
   "cell_type": "code",
   "execution_count": 26,
   "metadata": {},
   "outputs": [
    {
     "name": "stdout",
     "output_type": "stream",
     "text": [
      "---------------------------------------------------------------------------------------------------------------------------------------------------------------------------------------------------------------------------------------------------------------------------------\n",
      "|\"customer_id\"  |\"customer_name\"   |\"age\"  |\"street_address\"        |\"city\"           |\"state\"  |\"zipcode\"  |\"county\"            |\"latitude\"  |\"longitude\"   |\"region\"   |\"CHURN\"  |\"VIEWING_FREQUENCY\"  |\"TOTAL_VIEW_DURATION\"  |\"TOTAL_NO_OF_SHOWS\"  |\"gender\"  |\"age_group\"  |\n",
      "---------------------------------------------------------------------------------------------------------------------------------------------------------------------------------------------------------------------------------------------------------------------------------\n",
      "|1              |Alma Bassani      |18     |329 4th Street          |Manhattan Beach  |CA       |90266      |Los Angeles County  |33.8804079  |-118.4063552  |West       |0        |186.000              |7057.000               |25.000               |0         |0            |\n",
      "|2              |Sherry Blanck     |25     |1170 NEWBURY LN E       |Mobile           |AL       |36695      |Mobile County       |30.6660304  |-88.21778     |South      |0        |141.000              |7376.000               |14.000               |0         |1            |\n",
      "|3              |Frank Leehy       |81     |3070 S Hadley Rd        |Ortonville       |MI       |48462      |Oakland County      |42.806329   |-83.4151795   |Midwest    |1        |139.000              |5592.000               |22.000               |1         |5            |\n",
      "|4              |Warren Nease      |73     |1119 14TH St North      |Birmingham       |AL       |35204      |Jefferson County    |33.5229239  |-86.8219365   |South      |1        |11.000               |589.000                |2.000                |1         |5            |\n",
      "|5              |Miguel Cavill     |37     |7526 MUSTANG CORRAL DR  |Humble           |TX       |77338      |Harris County       |30.0123186  |-95.3103014   |Southwest  |1        |169.000              |7651.000               |21.000               |1         |2            |\n",
      "|6              |Jimmie Roberge    |28     |5055 N BEACH RD         |Englewood        |FL       |34223      |Sarasota County     |26.9445612  |-82.3705677   |South      |0        |170.000              |6684.000               |17.000               |1         |1            |\n",
      "|7              |Herman Eull       |25     |239 B ELDER ST          |Greenville       |SC       |29607      |Greenville County   |34.8406215  |-82.3739721   |South      |0        |101.000              |4512.000               |14.000               |1         |1            |\n",
      "|8              |Jane Bahn         |39     |514 ANTRIM RD           |Xenia            |OH       |45385      |Greene County       |39.6912711  |-83.9429705   |Midwest    |0        |216.000              |9121.000               |28.000               |0         |2            |\n",
      "|9              |Russell Poepping  |24     |1786 200TH AVE          |New Richmond     |WI       |54017      |St Croix County     |45.1823546  |-92.4488986   |Midwest    |0        |114.000              |5145.000               |14.000               |1         |0            |\n",
      "|10             |Roland Troidl     |38     |1503 MARSHALL LN        |Austin           |TX       |78703      |Travis County       |30.282095   |-97.7556233   |Southwest  |0        |238.000              |10461.000              |28.000               |1         |2            |\n",
      "---------------------------------------------------------------------------------------------------------------------------------------------------------------------------------------------------------------------------------------------------------------------------------\n",
      "\n",
      "------------------------------------------------------------------------------------------------------------------------------------------------------------------------------------------------------------------------------------------------------------------------------------------------------------------------------------------\n",
      "|\"SUMMARY\"  |\"customer_id\"      |\"customer_name\"   |\"age\"               |\"street_address\"  |\"city\"      |\"state\"  |\"zipcode\"  |\"county\"         |\"latitude\"          |\"longitude\"         |\"region\"  |\"CHURN\"             |\"VIEWING_FREQUENCY\"  |\"TOTAL_VIEW_DURATION\"  |\"TOTAL_NO_OF_SHOWS\"  |\"gender\"             |\"age_group\"         |\n",
      "------------------------------------------------------------------------------------------------------------------------------------------------------------------------------------------------------------------------------------------------------------------------------------------------------------------------------------------\n",
      "|max        |50000.0            |Zachary Wuensche  |85.0                |9S220 LAKE DR     |Zuni        |WY       |99362      |Yuba County      |48.9715758          |105.37233           |West      |1.0                 |346.0                |16577.0                |30.0                 |1.0                  |5.0                 |\n",
      "|count      |50000.0            |50000             |50000.0             |50000             |50000       |50000    |50000      |50000            |50000.0             |50000.0             |50000     |50000.0             |50000.0              |50000.0                |50000.0              |50000.0              |50000.0             |\n",
      "|min        |1.0                |Aaron Abrecht     |18.0                |0 *UNASSIGNED*    |Abbotsford  |AL       |01001      |Accomack County  |24.5489697          |-124.502256         |East      |0.0                 |1.0                  |0.0                    |1.0                  |0.0                  |0.0                 |\n",
      "|mean       |25000.5            |NULL              |42.84702            |NULL              |NULL        |NULL     |NULL       |NULL             |37.24522367577      |-93.68893839504801  |NULL      |0.32588             |84.53338             |3808.54834             |10.4235997           |0.4965               |2.24516             |\n",
      "|stddev     |14433.90106658626  |NULL              |17.093322117131006  |NULL              |NULL        |NULL     |NULL       |NULL             |5.2512777811381195  |19.550242425252076  |NULL      |0.4687077981002663  |71.63169848454073    |3252.0284174588332     |7.9934553425803285   |0.49999299995099933  |1.5844074602197504  |\n",
      "------------------------------------------------------------------------------------------------------------------------------------------------------------------------------------------------------------------------------------------------------------------------------------------------------------------------------------------\n",
      "\n"
     ]
    }
   ],
   "source": [
    "# Encoding age_group\n",
    "\n",
    "gdc_dim_media_customers = gdc_dim_media_customers.with_column('\"age_group\"',\n",
    "    F.when(F.col('\"age_group\"') == '18-24', 0)\n",
    "     .when(F.col('\"age_group\"') == '25-34', 1)\n",
    "     .when(F.col('\"age_group\"') == '35-44', 2)\n",
    "     .when(F.col('\"age_group\"') == '45-54', 3)\n",
    "     .when(F.col('\"age_group\"') == '55-64', 4)\n",
    "     .when(F.col('\"age_group\"') == '65+', 5)\n",
    "     .otherwise(-1))\n",
    "gdc_dim_media_customers.show()\n",
    "gdc_dim_media_customers.describe().show()"
   ]
  },
  {
   "cell_type": "markdown",
   "metadata": {},
   "source": [
    "### Label Encoding "
   ]
  },
  {
   "cell_type": "markdown",
   "metadata": {},
   "source": [
    "#### Creating Pandas Dataframe to perform Label Encoding"
   ]
  },
  {
   "cell_type": "code",
   "execution_count": 27,
   "metadata": {},
   "outputs": [],
   "source": [
    "lbl_enc_df = gdc_dim_media_customers.toPandas()"
   ]
  },
  {
   "cell_type": "code",
   "execution_count": 29,
   "metadata": {},
   "outputs": [],
   "source": [
    "# Encoding categorical columns using labelencoder\n",
    "label_encoder = LabelEncoder()\n",
    "lbl_enc_df['customer_name'] = label_encoder.fit_transform(lbl_enc_df['customer_name'])\n",
    "lbl_enc_df['street_address'] = label_encoder.fit_transform(lbl_enc_df['street_address'])\n",
    "lbl_enc_df['state'] = label_encoder.fit_transform(lbl_enc_df['state'])\n",
    "lbl_enc_df['county'] = label_encoder.fit_transform(lbl_enc_df['county'])\n",
    "lbl_enc_df['region'] = label_encoder.fit_transform(lbl_enc_df['region'])\n",
    "lbl_enc_df['city'] = label_encoder.fit_transform(lbl_enc_df['city'])\n",
    "lbl_enc_df['latitude'] = label_encoder.fit_transform(lbl_enc_df['latitude'])\n",
    "lbl_enc_df['longitude'] = label_encoder.fit_transform(lbl_enc_df['longitude'])"
   ]
  },
  {
   "cell_type": "code",
   "execution_count": 30,
   "metadata": {},
   "outputs": [
    {
     "data": {
      "text/html": [
       "<div>\n",
       "<style scoped>\n",
       "    .dataframe tbody tr th:only-of-type {\n",
       "        vertical-align: middle;\n",
       "    }\n",
       "\n",
       "    .dataframe tbody tr th {\n",
       "        vertical-align: top;\n",
       "    }\n",
       "\n",
       "    .dataframe thead th {\n",
       "        text-align: right;\n",
       "    }\n",
       "</style>\n",
       "<table border=\"1\" class=\"dataframe\">\n",
       "  <thead>\n",
       "    <tr style=\"text-align: right;\">\n",
       "      <th></th>\n",
       "      <th>customer_id</th>\n",
       "      <th>customer_name</th>\n",
       "      <th>age</th>\n",
       "      <th>street_address</th>\n",
       "      <th>city</th>\n",
       "      <th>state</th>\n",
       "      <th>zipcode</th>\n",
       "      <th>county</th>\n",
       "      <th>latitude</th>\n",
       "      <th>longitude</th>\n",
       "      <th>region</th>\n",
       "      <th>CHURN</th>\n",
       "      <th>VIEWING_FREQUENCY</th>\n",
       "      <th>TOTAL_VIEW_DURATION</th>\n",
       "      <th>TOTAL_NO_OF_SHOWS</th>\n",
       "      <th>gender</th>\n",
       "      <th>age_group</th>\n",
       "    </tr>\n",
       "  </thead>\n",
       "  <tbody>\n",
       "    <tr>\n",
       "      <th>0</th>\n",
       "      <td>1</td>\n",
       "      <td>1298</td>\n",
       "      <td>18</td>\n",
       "      <td>26909</td>\n",
       "      <td>2977</td>\n",
       "      <td>3</td>\n",
       "      <td>90266</td>\n",
       "      <td>548</td>\n",
       "      <td>13892</td>\n",
       "      <td>6377</td>\n",
       "      <td>4</td>\n",
       "      <td>0</td>\n",
       "      <td>186.000</td>\n",
       "      <td>7057.0</td>\n",
       "      <td>25.000</td>\n",
       "      <td>0</td>\n",
       "      <td>0</td>\n",
       "    </tr>\n",
       "    <tr>\n",
       "      <th>1</th>\n",
       "      <td>2</td>\n",
       "      <td>43217</td>\n",
       "      <td>25</td>\n",
       "      <td>4782</td>\n",
       "      <td>3240</td>\n",
       "      <td>0</td>\n",
       "      <td>36695</td>\n",
       "      <td>609</td>\n",
       "      <td>8314</td>\n",
       "      <td>24942</td>\n",
       "      <td>2</td>\n",
       "      <td>0</td>\n",
       "      <td>141.000</td>\n",
       "      <td>7376.0</td>\n",
       "      <td>14.000</td>\n",
       "      <td>0</td>\n",
       "      <td>1</td>\n",
       "    </tr>\n",
       "    <tr>\n",
       "      <th>2</th>\n",
       "      <td>3</td>\n",
       "      <td>16994</td>\n",
       "      <td>81</td>\n",
       "      <td>25400</td>\n",
       "      <td>3729</td>\n",
       "      <td>20</td>\n",
       "      <td>48462</td>\n",
       "      <td>663</td>\n",
       "      <td>43532</td>\n",
       "      <td>29641</td>\n",
       "      <td>1</td>\n",
       "      <td>1</td>\n",
       "      <td>139.000</td>\n",
       "      <td>5592.0</td>\n",
       "      <td>22.000</td>\n",
       "      <td>1</td>\n",
       "      <td>5</td>\n",
       "    </tr>\n",
       "    <tr>\n",
       "      <th>3</th>\n",
       "      <td>4</td>\n",
       "      <td>49079</td>\n",
       "      <td>73</td>\n",
       "      <td>3653</td>\n",
       "      <td>419</td>\n",
       "      <td>0</td>\n",
       "      <td>35204</td>\n",
       "      <td>467</td>\n",
       "      <td>12239</td>\n",
       "      <td>26525</td>\n",
       "      <td>2</td>\n",
       "      <td>1</td>\n",
       "      <td>11.000</td>\n",
       "      <td>589.0</td>\n",
       "      <td>2.000</td>\n",
       "      <td>1</td>\n",
       "      <td>5</td>\n",
       "    </tr>\n",
       "    <tr>\n",
       "      <th>4</th>\n",
       "      <td>5</td>\n",
       "      <td>34487</td>\n",
       "      <td>37</td>\n",
       "      <td>44059</td>\n",
       "      <td>2356</td>\n",
       "      <td>41</td>\n",
       "      <td>77338</td>\n",
       "      <td>410</td>\n",
       "      <td>6329</td>\n",
       "      <td>21240</td>\n",
       "      <td>3</td>\n",
       "      <td>1</td>\n",
       "      <td>169.000</td>\n",
       "      <td>7651.0</td>\n",
       "      <td>21.000</td>\n",
       "      <td>1</td>\n",
       "      <td>2</td>\n",
       "    </tr>\n",
       "    <tr>\n",
       "      <th>...</th>\n",
       "      <td>...</td>\n",
       "      <td>...</td>\n",
       "      <td>...</td>\n",
       "      <td>...</td>\n",
       "      <td>...</td>\n",
       "      <td>...</td>\n",
       "      <td>...</td>\n",
       "      <td>...</td>\n",
       "      <td>...</td>\n",
       "      <td>...</td>\n",
       "      <td>...</td>\n",
       "      <td>...</td>\n",
       "      <td>...</td>\n",
       "      <td>...</td>\n",
       "      <td>...</td>\n",
       "      <td>...</td>\n",
       "      <td>...</td>\n",
       "    </tr>\n",
       "    <tr>\n",
       "      <th>49995</th>\n",
       "      <td>49996</td>\n",
       "      <td>29922</td>\n",
       "      <td>28</td>\n",
       "      <td>14872</td>\n",
       "      <td>2356</td>\n",
       "      <td>41</td>\n",
       "      <td>77346</td>\n",
       "      <td>410</td>\n",
       "      <td>6206</td>\n",
       "      <td>21847</td>\n",
       "      <td>3</td>\n",
       "      <td>0</td>\n",
       "      <td>75.000</td>\n",
       "      <td>3295.0</td>\n",
       "      <td>10.423</td>\n",
       "      <td>0</td>\n",
       "      <td>1</td>\n",
       "    </tr>\n",
       "    <tr>\n",
       "      <th>49996</th>\n",
       "      <td>49997</td>\n",
       "      <td>35301</td>\n",
       "      <td>18</td>\n",
       "      <td>24863</td>\n",
       "      <td>2199</td>\n",
       "      <td>31</td>\n",
       "      <td>89052</td>\n",
       "      <td>193</td>\n",
       "      <td>19908</td>\n",
       "      <td>10949</td>\n",
       "      <td>4</td>\n",
       "      <td>0</td>\n",
       "      <td>10.000</td>\n",
       "      <td>393.0</td>\n",
       "      <td>2.000</td>\n",
       "      <td>1</td>\n",
       "      <td>0</td>\n",
       "    </tr>\n",
       "    <tr>\n",
       "      <th>49997</th>\n",
       "      <td>49998</td>\n",
       "      <td>1754</td>\n",
       "      <td>19</td>\n",
       "      <td>19693</td>\n",
       "      <td>1846</td>\n",
       "      <td>41</td>\n",
       "      <td>77554</td>\n",
       "      <td>351</td>\n",
       "      <td>3519</td>\n",
       "      <td>22009</td>\n",
       "      <td>3</td>\n",
       "      <td>0</td>\n",
       "      <td>8.000</td>\n",
       "      <td>450.0</td>\n",
       "      <td>2.000</td>\n",
       "      <td>0</td>\n",
       "      <td>0</td>\n",
       "    </tr>\n",
       "    <tr>\n",
       "      <th>49998</th>\n",
       "      <td>49999</td>\n",
       "      <td>7561</td>\n",
       "      <td>41</td>\n",
       "      <td>29273</td>\n",
       "      <td>990</td>\n",
       "      <td>20</td>\n",
       "      <td>48036</td>\n",
       "      <td>557</td>\n",
       "      <td>42928</td>\n",
       "      <td>31191</td>\n",
       "      <td>1</td>\n",
       "      <td>0</td>\n",
       "      <td>75.000</td>\n",
       "      <td>3295.0</td>\n",
       "      <td>10.423</td>\n",
       "      <td>1</td>\n",
       "      <td>2</td>\n",
       "    </tr>\n",
       "    <tr>\n",
       "      <th>49999</th>\n",
       "      <td>50000</td>\n",
       "      <td>6167</td>\n",
       "      <td>22</td>\n",
       "      <td>37114</td>\n",
       "      <td>3934</td>\n",
       "      <td>2</td>\n",
       "      <td>85008</td>\n",
       "      <td>568</td>\n",
       "      <td>11981</td>\n",
       "      <td>12128</td>\n",
       "      <td>3</td>\n",
       "      <td>0</td>\n",
       "      <td>75.000</td>\n",
       "      <td>3295.0</td>\n",
       "      <td>10.423</td>\n",
       "      <td>1</td>\n",
       "      <td>0</td>\n",
       "    </tr>\n",
       "  </tbody>\n",
       "</table>\n",
       "<p>50000 rows × 17 columns</p>\n",
       "</div>"
      ],
      "text/plain": [
       "       customer_id  customer_name  age  street_address  city  state zipcode  \\\n",
       "0                1           1298   18           26909  2977      3   90266   \n",
       "1                2          43217   25            4782  3240      0   36695   \n",
       "2                3          16994   81           25400  3729     20   48462   \n",
       "3                4          49079   73            3653   419      0   35204   \n",
       "4                5          34487   37           44059  2356     41   77338   \n",
       "...            ...            ...  ...             ...   ...    ...     ...   \n",
       "49995        49996          29922   28           14872  2356     41   77346   \n",
       "49996        49997          35301   18           24863  2199     31   89052   \n",
       "49997        49998           1754   19           19693  1846     41   77554   \n",
       "49998        49999           7561   41           29273   990     20   48036   \n",
       "49999        50000           6167   22           37114  3934      2   85008   \n",
       "\n",
       "       county  latitude  longitude  region  CHURN VIEWING_FREQUENCY  \\\n",
       "0         548     13892       6377       4      0           186.000   \n",
       "1         609      8314      24942       2      0           141.000   \n",
       "2         663     43532      29641       1      1           139.000   \n",
       "3         467     12239      26525       2      1            11.000   \n",
       "4         410      6329      21240       3      1           169.000   \n",
       "...       ...       ...        ...     ...    ...               ...   \n",
       "49995     410      6206      21847       3      0            75.000   \n",
       "49996     193     19908      10949       4      0            10.000   \n",
       "49997     351      3519      22009       3      0             8.000   \n",
       "49998     557     42928      31191       1      0            75.000   \n",
       "49999     568     11981      12128       3      0            75.000   \n",
       "\n",
       "       TOTAL_VIEW_DURATION TOTAL_NO_OF_SHOWS  gender  age_group  \n",
       "0                   7057.0            25.000       0          0  \n",
       "1                   7376.0            14.000       0          1  \n",
       "2                   5592.0            22.000       1          5  \n",
       "3                    589.0             2.000       1          5  \n",
       "4                   7651.0            21.000       1          2  \n",
       "...                    ...               ...     ...        ...  \n",
       "49995               3295.0            10.423       0          1  \n",
       "49996                393.0             2.000       1          0  \n",
       "49997                450.0             2.000       0          0  \n",
       "49998               3295.0            10.423       1          2  \n",
       "49999               3295.0            10.423       1          0  \n",
       "\n",
       "[50000 rows x 17 columns]"
      ]
     },
     "execution_count": 30,
     "metadata": {},
     "output_type": "execute_result"
    }
   ],
   "source": [
    "lbl_enc_df"
   ]
  },
  {
   "cell_type": "markdown",
   "metadata": {},
   "source": [
    "#### Writing Encoded Dataframe to Snowflake \n",
    "#### create new connection pointing to schema = churn_prediction"
   ]
  },
  {
   "cell_type": "markdown",
   "metadata": {},
   "source": [
    "Initally as we had to import data from multiple databases we didnt mention specific schema in our connection file. This step is not required if you have all the data in a single schema.  "
   ]
  },
  {
   "cell_type": "code",
   "execution_count": 31,
   "metadata": {},
   "outputs": [
    {
     "name": "stdout",
     "output_type": "stream",
     "text": [
      "User                        : MOHAMMED\n",
      "Role                        : SE_ROLE\n",
      "Database                    : GDC_DEMO\n",
      "Schema                      : CHURN_PREDICTION\n",
      "Warehouse                   : SE_DEMO_WH\n",
      "Snowflake version           : 7.41.0\n",
      "Snowpark for Python version : 1.5.1\n"
     ]
    }
   ],
   "source": [
    "# Create Snowflake Session object\n",
    "connection_parameters = json.load(open('connection_GDC_churn.json'))\n",
    "conn_churn = Session.builder.configs(connection_parameters).create()\n",
    "conn_churn.sql_simplifier_enabled = True\n",
    "snowflake_environment = conn_churn.sql('select current_user(), current_role(), current_database(), current_schema(), current_version(), current_warehouse()').collect()\n",
    "snowpark_version = VERSION\n",
    "# Current Environment Details\n",
    "print('User                        : {}'.format(snowflake_environment[0][0]))\n",
    "print('Role                        : {}'.format(snowflake_environment[0][1]))\n",
    "print('Database                    : {}'.format(snowflake_environment[0][2]))\n",
    "print('Schema                      : {}'.format(snowflake_environment[0][3]))\n",
    "print('Warehouse                   : {}'.format(snowflake_environment[0][5]))\n",
    "print('Snowflake version           : {}'.format(snowflake_environment[0][4]))\n",
    "print('Snowpark for Python version : {}.{}.{}'.format(snowpark_version[0],snowpark_version[1],snowpark_version[2]))"
   ]
  },
  {
   "cell_type": "code",
   "execution_count": 32,
   "metadata": {},
   "outputs": [],
   "source": [
    "# Writing encoded dataframe to Snowflake table\n",
    "encoded = lbl_enc_df\n",
    "conn_churn.createDataFrame(encoded).write.mode('overwrite').save_as_table('encoded_customer_data')#same as encoded_df table"
   ]
  },
  {
   "cell_type": "markdown",
   "metadata": {},
   "source": [
    "## Feature selection"
   ]
  },
  {
   "cell_type": "markdown",
   "metadata": {},
   "source": [
    "### Chi-Square Test to choose significant Feature Columns"
   ]
  },
  {
   "cell_type": "code",
   "execution_count": 33,
   "metadata": {},
   "outputs": [
    {
     "name": "stdout",
     "output_type": "stream",
     "text": [
      "chi_scores = (array([1.97931609e+07, 1.76582453e+03, 1.03714956e+00, 4.16281208e+03,\n",
      "       1.13613679e+02, 1.51463218e+00, 1.08455118e+05, 4.38147650e+01,\n",
      "       1.01686011e+04, 4.30093004e+04, 4.53186367e+00, 1.40071866e+04,\n",
      "       4.79933037e+05, 3.36329085e+03, 2.26041760e+00, 6.93762785e-02]), array([0.00000000e+00, 0.00000000e+00, 3.08485336e-01, 0.00000000e+00,\n",
      "       1.58338278e-26, 2.18433615e-01, 0.00000000e+00, 3.60971526e-11,\n",
      "       0.00000000e+00, 0.00000000e+00, 3.32693679e-02, 0.00000000e+00,\n",
      "       0.00000000e+00, 0.00000000e+00, 1.32718268e-01, 7.92247091e-01]))\n"
     ]
    },
    {
     "data": {
      "text/plain": [
       "<Axes: >"
      ]
     },
     "execution_count": 33,
     "metadata": {},
     "output_type": "execute_result"
    },
    {
     "data": {
      "image/png": "[encoded data removed]",
      "text/plain": [
       "<Figure size 640x480 with 1 Axes>"
      ]
     },
     "metadata": {},
     "output_type": "display_data"
    }
   ],
   "source": [
    "#chi-square test\n",
    "\n",
    "X = lbl_enc_df.drop('CHURN',axis=1)\n",
    "y = lbl_enc_df['CHURN']\n",
    "\n",
    "chi_scores = chi2(X,y)\n",
    "\n",
    "print('chi_scores =', chi_scores)\n",
    "\n",
    "#Plotting P-Values\n",
    "\n",
    "p_values = pd.Series(chi_scores[1],index = X.columns)\n",
    "p_values.sort_values(ascending = False , inplace = True)\n",
    "\n",
    "p_values.plot.bar()"
   ]
  },
  {
   "cell_type": "markdown",
   "metadata": {},
   "source": [
    "#### Droping insignificant Columns based on Chi-Square Test"
   ]
  },
  {
   "cell_type": "code",
   "execution_count": 34,
   "metadata": {},
   "outputs": [],
   "source": [
    "columns_to_drop = ['age_group', 'age', 'state', 'gender']\n",
    "lbl_enc_df = lbl_enc_df.drop(columns=columns_to_drop)"
   ]
  },
  {
   "cell_type": "markdown",
   "metadata": {},
   "source": [
    "#### Save training Data to Snowflake "
   ]
  },
  {
   "cell_type": "code",
   "execution_count": null,
   "metadata": {},
   "outputs": [],
   "source": [
    "# Writing encoded dataframe to Snowflake table\n",
    "final_table_before_train_test_split = lbl_enc_df\n",
    "conn_churn.createDataFrame(final_table_before_train_test_split).write.mode('overwrite').save_as_table('Customer_data_for_prediction_modelling') # same as final_table_before_train_test_split table"
   ]
  },
  {
   "cell_type": "markdown",
   "metadata": {},
   "source": [
    "## Model Creation"
   ]
  },
  {
   "cell_type": "markdown",
   "metadata": {},
   "source": [
    "### Train Test Split"
   ]
  },
  {
   "cell_type": "code",
   "execution_count": 36,
   "metadata": {},
   "outputs": [],
   "source": [
    "#Train-test split \n",
    "y_data = lbl_enc_df['CHURN']\n",
    "x_data = lbl_enc_df.drop('CHURN', axis = 1)\n",
    "x_training_data, x_test_data, y_training_data, y_test_data = train_test_split(x_data, y_data, test_size = 0.3)"
   ]
  },
  {
   "cell_type": "code",
   "execution_count": 37,
   "metadata": {},
   "outputs": [],
   "source": [
    "training_table = pd.concat([x_training_data, y_training_data], axis=1)\n",
    "test_table = pd.concat([x_test_data, y_test_data], axis=1)"
   ]
  },
  {
   "cell_type": "code",
   "execution_count": null,
   "metadata": {},
   "outputs": [],
   "source": [
    "# Store train and test split to snowflake tables\n",
    "# conn_churn.createDataFrame(training_table).write.mode('overwrite').save_as_table('Training_Data')\n",
    "# conn_churn.createDataFrame(test_table).write.mode('overwrite').save_as_table('Test_Data')"
   ]
  },
  {
   "cell_type": "markdown",
   "metadata": {},
   "source": [
    "### Model Training and Testing"
   ]
  },
  {
   "cell_type": "code",
   "execution_count": 38,
   "metadata": {},
   "outputs": [],
   "source": [
    "figsize = (8,5)\n",
    "def get_rf_model(y_training_data, x_training_data, x_test_data) :\n",
    "    rf = RandomForestRegressor()\n",
    "    model = rf.fit(x_training_data,y_training_data)\n",
    "    \n",
    "    y_hat = model.predict(x_test_data)\n",
    "    arr = np.c_[y_hat,y_test_data ]\n",
    "    # print('\\nPrinting predicted and actual values:\\n', arr)\n",
    "    print('\\nPrinting Mean Squared Error:\\n', (np.sqrt(mean_squared_error(y_test_data,y_hat))))\n",
    "    print('\\nR2 Score:\\n', r2_score(y_test_data,y_hat))\n",
    "\n",
    "    # plot to visualize prediction\n",
    "    # fix, ax = plt.subplots(figsize = figsize)\n",
    "    # g = sns.regplot(y=y_test_data, x= y_hat, ax= ax)\n",
    "    # g.set_xlabel(\"Predictions\", fontsize =15)\n",
    "    # g.set_ylabel(\"Test\", fontsize = 15)\n",
    "    # plt.show()\n",
    "\n",
    "    #Plt.scatter\n",
    "\n",
    "    # fix, ax = plt.subplots(figsize = figsize)\n",
    "    # g = sns.regplot(x=y_hat, y= y_test_data-y_hat, color =\"red\", ax= ax)\n",
    "    # g.set_xlabel(\"Predictions\", fontsize =15)\n",
    "    # g.set_ylabel(\"Test\", fontsize = 15)\n",
    "    # plt.show()\n",
    "\n",
    "    # Create a scatter plot to compare actual vs. predicted values\n",
    "    # plt.figure(figsize=figsize)\n",
    "    # plt.plot(y_test_data, y_hat, alpha=0.5)\n",
    "    # plt.xlabel(\"Actual\", fontsize=15)\n",
    "    # plt.ylabel(\"Predicted\", fontsize=15)\n",
    "    # plt.title(\"Actual vs. Predicted\", fontsize=15)\n",
    "    # plt.show()\n",
    "\n",
    "     # Calculate and print the confusion matrix and classification report\n",
    "    threshold = 0.5  # Set your threshold here\n",
    "    y_pred_class = (y_hat >= threshold).astype(int)\n",
    "    conf_matrix = confusion_matrix(y_test_data, y_pred_class)\n",
    "    print('\\nConfusion Matrix:\\n', conf_matrix)\n",
    "    \n",
    "    classification_rep = classification_report(y_test_data, y_pred_class)\n",
    "    print('\\nClassification Report:\\n', classification_rep)\n",
    "\n",
    "\n",
    "    plt.figure(figsize=(6, 4))  # Set the figure size\n",
    "\n",
    "    # Use seaborn to create a heatmap\n",
    "    sns.heatmap(conf_matrix, annot=True, fmt='d', cmap='Blues', cbar=False, square=True)\n",
    "\n",
    "    # Add labels and a title\n",
    "    plt.xlabel('Predicted')\n",
    "    plt.ylabel('Actual')\n",
    "    plt.title('Confusion Matrix Heatmap')\n",
    "\n",
    "\n",
    "    \n",
    "    return model, arr, y_hat, conf_matrix, "
   ]
  },
  {
   "cell_type": "code",
   "execution_count": 39,
   "metadata": {},
   "outputs": [
    {
     "name": "stdout",
     "output_type": "stream",
     "text": [
      "\n",
      "Printing predicted and actual values:\n",
      " [[0.03 0.  ]\n",
      " [0.94 1.  ]\n",
      " [0.   0.  ]\n",
      " ...\n",
      " [0.04 0.  ]\n",
      " [0.7  1.  ]\n",
      " [0.12 0.  ]]\n",
      "\n",
      "Printing Mean Squared Error:\n",
      " 0.35360960582729273\n",
      "\n",
      "R2 Score:\n",
      " 0.4374897618196113\n"
     ]
    },
    {
     "data": {
      "image/png": "[encoded data removed]",
      "text/plain": [
       "<Figure size 800x500 with 1 Axes>"
      ]
     },
     "metadata": {},
     "output_type": "display_data"
    },
    {
     "data": {
      "image/png": "[encoded data removed]",
      "text/plain": [
       "<Figure size 800x500 with 1 Axes>"
      ]
     },
     "metadata": {},
     "output_type": "display_data"
    },
    {
     "data": {
      "image/png": "[encoded data removed]",
      "text/plain": [
       "<Figure size 800x500 with 1 Axes>"
      ]
     },
     "metadata": {},
     "output_type": "display_data"
    },
    {
     "name": "stdout",
     "output_type": "stream",
     "text": [
      "\n",
      "Confusion Matrix:\n",
      " [[8768 1229]\n",
      " [1441 3562]]\n",
      "\n",
      "Classification Report:\n",
      "               precision    recall  f1-score   support\n",
      "\n",
      "           0       0.86      0.88      0.87      9997\n",
      "           1       0.74      0.71      0.73      5003\n",
      "\n",
      "    accuracy                           0.82     15000\n",
      "   macro avg       0.80      0.79      0.80     15000\n",
      "weighted avg       0.82      0.82      0.82     15000\n",
      "\n"
     ]
    },
    {
     "data": {
      "image/png": "[encoded data removed]",
      "text/plain": [
       "<Figure size 600x400 with 1 Axes>"
      ]
     },
     "metadata": {},
     "output_type": "display_data"
    }
   ],
   "source": [
    "# Model training\n",
    "model_rf, arr_sm, y_hat, conf_matrix = get_rf_model(y_training_data, x_training_data, x_test_data)"
   ]
  },
  {
   "cell_type": "markdown",
   "metadata": {},
   "source": [
    "### Adding Predicted Results to snowflake table"
   ]
  },
  {
   "cell_type": "code",
   "execution_count": 40,
   "metadata": {},
   "outputs": [
    {
     "data": {
      "text/html": [
       "<div>\n",
       "<style scoped>\n",
       "    .dataframe tbody tr th:only-of-type {\n",
       "        vertical-align: middle;\n",
       "    }\n",
       "\n",
       "    .dataframe tbody tr th {\n",
       "        vertical-align: top;\n",
       "    }\n",
       "\n",
       "    .dataframe thead th {\n",
       "        text-align: right;\n",
       "    }\n",
       "</style>\n",
       "<table border=\"1\" class=\"dataframe\">\n",
       "  <thead>\n",
       "    <tr style=\"text-align: right;\">\n",
       "      <th></th>\n",
       "      <th>customer_id</th>\n",
       "      <th>Predicted_CHURN</th>\n",
       "    </tr>\n",
       "  </thead>\n",
       "  <tbody>\n",
       "    <tr>\n",
       "      <th>37946</th>\n",
       "      <td>37947</td>\n",
       "      <td>0.03</td>\n",
       "    </tr>\n",
       "    <tr>\n",
       "      <th>2713</th>\n",
       "      <td>2714</td>\n",
       "      <td>0.94</td>\n",
       "    </tr>\n",
       "    <tr>\n",
       "      <th>10319</th>\n",
       "      <td>10320</td>\n",
       "      <td>0.00</td>\n",
       "    </tr>\n",
       "    <tr>\n",
       "      <th>15438</th>\n",
       "      <td>15439</td>\n",
       "      <td>0.21</td>\n",
       "    </tr>\n",
       "    <tr>\n",
       "      <th>34520</th>\n",
       "      <td>34521</td>\n",
       "      <td>0.18</td>\n",
       "    </tr>\n",
       "    <tr>\n",
       "      <th>...</th>\n",
       "      <td>...</td>\n",
       "      <td>...</td>\n",
       "    </tr>\n",
       "    <tr>\n",
       "      <th>48154</th>\n",
       "      <td>48155</td>\n",
       "      <td>0.00</td>\n",
       "    </tr>\n",
       "    <tr>\n",
       "      <th>21713</th>\n",
       "      <td>21714</td>\n",
       "      <td>0.19</td>\n",
       "    </tr>\n",
       "    <tr>\n",
       "      <th>25390</th>\n",
       "      <td>25391</td>\n",
       "      <td>0.04</td>\n",
       "    </tr>\n",
       "    <tr>\n",
       "      <th>7339</th>\n",
       "      <td>7340</td>\n",
       "      <td>0.70</td>\n",
       "    </tr>\n",
       "    <tr>\n",
       "      <th>40451</th>\n",
       "      <td>40452</td>\n",
       "      <td>0.12</td>\n",
       "    </tr>\n",
       "  </tbody>\n",
       "</table>\n",
       "<p>15000 rows × 2 columns</p>\n",
       "</div>"
      ],
      "text/plain": [
       "       customer_id  Predicted_CHURN\n",
       "37946        37947             0.03\n",
       "2713          2714             0.94\n",
       "10319        10320             0.00\n",
       "15438        15439             0.21\n",
       "34520        34521             0.18\n",
       "...            ...              ...\n",
       "48154        48155             0.00\n",
       "21713        21714             0.19\n",
       "25390        25391             0.04\n",
       "7339          7340             0.70\n",
       "40451        40452             0.12\n",
       "\n",
       "[15000 rows x 2 columns]"
      ]
     },
     "execution_count": 40,
     "metadata": {},
     "output_type": "execute_result"
    }
   ],
   "source": [
    "predicted_churn = test_table\n",
    "predicted_churn['Predicted_CHURN']=y_hat\n",
    "selected_columns = ['customer_id','Predicted_CHURN']\n",
    "predicted_churn = predicted_churn[selected_columns]\n",
    "predicted_churn"
   ]
  },
  {
   "cell_type": "code",
   "execution_count": null,
   "metadata": {},
   "outputs": [],
   "source": [
    "# conn_churn.createDataFrame(predicted_churn).write.mode('overwrite').save_as_table('Predicted_Data')"
   ]
  }
 ],
 "metadata": {
  "kernelspec": {
   "display_name": "Python 3 (ipykernel)",
   "language": "python",
   "name": "python3"
  }
 },
 "nbformat": 4,
 "nbformat_minor": 2
}
